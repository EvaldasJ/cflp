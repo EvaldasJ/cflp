{
 "cells": [
  {
   "cell_type": "code",
   "execution_count": 1,
   "metadata": {},
   "outputs": [],
   "source": [
    "# Import libraries\n",
    "import gurobipy as gp\n",
    "from gurobipy import GRB\n",
    "import numpy as np\n",
    "import pandas as pd\n",
    "import os\n",
    "import yaml\n",
    "from haversine import haversine\n",
    "from itertools import product\n",
    "from math import sqrt\n",
    "from math import floor, ceil\n",
    "import datetime\n",
    "from collections import Counter"
   ]
  },
  {
   "cell_type": "code",
   "execution_count": 2,
   "metadata": {},
   "outputs": [],
   "source": [
    "# Change working directory\n",
    "os.chdir('../../')"
   ]
  },
  {
   "cell_type": "code",
   "execution_count": 3,
   "metadata": {},
   "outputs": [
    {
     "name": "stdout",
     "output_type": "stream",
     "text": [
      "{'default': {'grid_size': '1km', 'stores_filename': 'processing_store-coordinates-and-sales-area-by-chain.xlsx', 'stores_ms_filename': '.confidential_market-share-by-store.xlsx', 'sales_filename': 'turnover-by-chain-2021.xlsx', 'alpha_filename': 'modelling_alpha-parameters.xlsx', 'x_offset': 550, 'y_offset': 550, 'last_closing_date': '2021-12-31', 'new_stores_date': '2021-01-01', 'distance_threshold_km': 100, 'alpha_select': 'alpha_est_avg', 'remove_other_stores': True, 'evaluate_ms_on_store_level': True, 'use_average_alpha': True}, 'config_name': {'config_var': ''}}\n"
     ]
    }
   ],
   "source": [
    "# Load configuration file\n",
    "dict_config = yaml.safe_load(open(\"src/config.yml\", \"r\"))\n",
    "print(dict_config)"
   ]
  },
  {
   "cell_type": "markdown",
   "metadata": {},
   "source": [
    "### Import and process data"
   ]
  },
  {
   "cell_type": "code",
   "execution_count": 4,
   "metadata": {},
   "outputs": [
    {
     "data": {
      "text/html": [
       "<div>\n",
       "<style scoped>\n",
       "    .dataframe tbody tr th:only-of-type {\n",
       "        vertical-align: middle;\n",
       "    }\n",
       "\n",
       "    .dataframe tbody tr th {\n",
       "        vertical-align: top;\n",
       "    }\n",
       "\n",
       "    .dataframe thead th {\n",
       "        text-align: right;\n",
       "    }\n",
       "</style>\n",
       "<table border=\"1\" class=\"dataframe\">\n",
       "  <thead>\n",
       "    <tr style=\"text-align: right;\">\n",
       "      <th></th>\n",
       "      <th>grid_id</th>\n",
       "      <th>grid_size</th>\n",
       "      <th>x_coord_lks94</th>\n",
       "      <th>y_coord_lks94</th>\n",
       "      <th>population</th>\n",
       "      <th>mean_age</th>\n",
       "      <th>latitude_y</th>\n",
       "      <th>longitude_x</th>\n",
       "    </tr>\n",
       "  </thead>\n",
       "  <tbody>\n",
       "    <tr>\n",
       "      <th>0</th>\n",
       "      <td>1x1kmX30800Y61332</td>\n",
       "      <td>1x1km</td>\n",
       "      <td>308550</td>\n",
       "      <td>6133750</td>\n",
       "      <td>3</td>\n",
       "      <td>34.000000</td>\n",
       "      <td>55.301836</td>\n",
       "      <td>20.984556</td>\n",
       "    </tr>\n",
       "    <tr>\n",
       "      <th>1</th>\n",
       "      <td>1x1kmX30800Y61342</td>\n",
       "      <td>1x1km</td>\n",
       "      <td>308550</td>\n",
       "      <td>6134750</td>\n",
       "      <td>6</td>\n",
       "      <td>40.833333</td>\n",
       "      <td>55.310807</td>\n",
       "      <td>20.983875</td>\n",
       "    </tr>\n",
       "    <tr>\n",
       "      <th>2</th>\n",
       "      <td>1x1kmX30900Y61332</td>\n",
       "      <td>1x1km</td>\n",
       "      <td>309550</td>\n",
       "      <td>6133750</td>\n",
       "      <td>1409</td>\n",
       "      <td>45.965224</td>\n",
       "      <td>55.302223</td>\n",
       "      <td>21.000283</td>\n",
       "    </tr>\n",
       "    <tr>\n",
       "      <th>3</th>\n",
       "      <td>1x1kmX30900Y61342</td>\n",
       "      <td>1x1km</td>\n",
       "      <td>309550</td>\n",
       "      <td>6134750</td>\n",
       "      <td>281</td>\n",
       "      <td>41.412811</td>\n",
       "      <td>55.311195</td>\n",
       "      <td>20.999605</td>\n",
       "    </tr>\n",
       "    <tr>\n",
       "      <th>4</th>\n",
       "      <td>1x1kmX31000Y61332</td>\n",
       "      <td>1x1km</td>\n",
       "      <td>310550</td>\n",
       "      <td>6133750</td>\n",
       "      <td>25</td>\n",
       "      <td>39.720000</td>\n",
       "      <td>55.302609</td>\n",
       "      <td>21.016009</td>\n",
       "    </tr>\n",
       "  </tbody>\n",
       "</table>\n",
       "</div>"
      ],
      "text/plain": [
       "             grid_id grid_size  x_coord_lks94  y_coord_lks94  population  \\\n",
       "0  1x1kmX30800Y61332     1x1km         308550        6133750           3   \n",
       "1  1x1kmX30800Y61342     1x1km         308550        6134750           6   \n",
       "2  1x1kmX30900Y61332     1x1km         309550        6133750        1409   \n",
       "3  1x1kmX30900Y61342     1x1km         309550        6134750         281   \n",
       "4  1x1kmX31000Y61332     1x1km         310550        6133750          25   \n",
       "\n",
       "    mean_age  latitude_y  longitude_x  \n",
       "0  34.000000   55.301836    20.984556  \n",
       "1  40.833333   55.310807    20.983875  \n",
       "2  45.965224   55.302223    21.000283  \n",
       "3  41.412811   55.311195    20.999605  \n",
       "4  39.720000   55.302609    21.016009  "
      ]
     },
     "metadata": {},
     "output_type": "display_data"
    },
    {
     "name": "stdout",
     "output_type": "stream",
     "text": [
      "<class 'pandas.core.frame.DataFrame'>\n",
      "RangeIndex: 34664 entries, 0 to 34663\n",
      "Data columns (total 8 columns):\n",
      " #   Column         Non-Null Count  Dtype  \n",
      "---  ------         --------------  -----  \n",
      " 0   grid_id        34664 non-null  object \n",
      " 1   grid_size      34664 non-null  object \n",
      " 2   x_coord_lks94  34664 non-null  int64  \n",
      " 3   y_coord_lks94  34664 non-null  int64  \n",
      " 4   population     34664 non-null  int64  \n",
      " 5   mean_age       34664 non-null  float64\n",
      " 6   latitude_y     34664 non-null  float64\n",
      " 7   longitude_x    34664 non-null  float64\n",
      "dtypes: float64(3), int64(3), object(2)\n",
      "memory usage: 2.1+ MB\n"
     ]
    },
    {
     "data": {
      "text/plain": [
       "None"
      ]
     },
     "metadata": {},
     "output_type": "display_data"
    }
   ],
   "source": [
    "# Load and inspect population data\n",
    "df_pop = pd.read_excel(str('./data/processed/')+'processing_population-by-'+dict_config['default']['grid_size']+'-grid.xlsx')\n",
    "display(df_pop.head())\n",
    "display(df_pop.info())"
   ]
  },
  {
   "cell_type": "code",
   "execution_count": 5,
   "metadata": {},
   "outputs": [
    {
     "data": {
      "text/html": [
       "<div>\n",
       "<style scoped>\n",
       "    .dataframe tbody tr th:only-of-type {\n",
       "        vertical-align: middle;\n",
       "    }\n",
       "\n",
       "    .dataframe tbody tr th {\n",
       "        vertical-align: top;\n",
       "    }\n",
       "\n",
       "    .dataframe thead th {\n",
       "        text-align: right;\n",
       "    }\n",
       "</style>\n",
       "<table border=\"1\" class=\"dataframe\">\n",
       "  <thead>\n",
       "    <tr style=\"text-align: right;\">\n",
       "      <th></th>\n",
       "      <th>store_no</th>\n",
       "      <th>address</th>\n",
       "      <th>chain_format</th>\n",
       "      <th>opening_date</th>\n",
       "      <th>closing_date</th>\n",
       "      <th>longitude_x</th>\n",
       "      <th>latitude_y</th>\n",
       "      <th>sales_area_m2</th>\n",
       "      <th>chain</th>\n",
       "      <th>x_coord_lks94</th>\n",
       "      <th>y_coord_lks94</th>\n",
       "    </tr>\n",
       "  </thead>\n",
       "  <tbody>\n",
       "    <tr>\n",
       "      <th>0</th>\n",
       "      <td>89</td>\n",
       "      <td>Taikos prospektas 100</td>\n",
       "      <td>AIBE</td>\n",
       "      <td>1900-01-01</td>\n",
       "      <td>2049-12-31</td>\n",
       "      <td>21.171887</td>\n",
       "      <td>55.668067</td>\n",
       "      <td>1553</td>\n",
       "      <td>AIBE</td>\n",
       "      <td>322098.686</td>\n",
       "      <td>6173998.559</td>\n",
       "    </tr>\n",
       "    <tr>\n",
       "      <th>1</th>\n",
       "      <td>115</td>\n",
       "      <td>Vilniaus g. 11</td>\n",
       "      <td>AIBE</td>\n",
       "      <td>1900-01-01</td>\n",
       "      <td>2049-12-31</td>\n",
       "      <td>24.047287</td>\n",
       "      <td>54.398666</td>\n",
       "      <td>75</td>\n",
       "      <td>AIBE</td>\n",
       "      <td>503070.564</td>\n",
       "      <td>6029086.000</td>\n",
       "    </tr>\n",
       "    <tr>\n",
       "      <th>2</th>\n",
       "      <td>116</td>\n",
       "      <td>V. Sladkeviciaus g. 2</td>\n",
       "      <td>AIBE</td>\n",
       "      <td>2020-07-31</td>\n",
       "      <td>2049-12-31</td>\n",
       "      <td>24.184648</td>\n",
       "      <td>54.162399</td>\n",
       "      <td>300</td>\n",
       "      <td>AIBE</td>\n",
       "      <td>512058.840</td>\n",
       "      <td>6002807.050</td>\n",
       "    </tr>\n",
       "    <tr>\n",
       "      <th>3</th>\n",
       "      <td>131</td>\n",
       "      <td>Taikos 20</td>\n",
       "      <td>AIBE</td>\n",
       "      <td>1900-01-01</td>\n",
       "      <td>2049-12-31</td>\n",
       "      <td>24.412276</td>\n",
       "      <td>56.060760</td>\n",
       "      <td>700</td>\n",
       "      <td>AIBE</td>\n",
       "      <td>525677.451</td>\n",
       "      <td>6214161.754</td>\n",
       "    </tr>\n",
       "    <tr>\n",
       "      <th>4</th>\n",
       "      <td>132</td>\n",
       "      <td>Salduvs g.</td>\n",
       "      <td>AIBE</td>\n",
       "      <td>1900-01-01</td>\n",
       "      <td>2049-12-31</td>\n",
       "      <td>23.421890</td>\n",
       "      <td>55.920864</td>\n",
       "      <td>65</td>\n",
       "      <td>AIBE</td>\n",
       "      <td>463863.902</td>\n",
       "      <td>6198662.972</td>\n",
       "    </tr>\n",
       "  </tbody>\n",
       "</table>\n",
       "</div>"
      ],
      "text/plain": [
       "  store_no                address chain_format opening_date closing_date  \\\n",
       "0       89  Taikos prospektas 100         AIBE   1900-01-01   2049-12-31   \n",
       "1      115         Vilniaus g. 11         AIBE   1900-01-01   2049-12-31   \n",
       "2      116  V. Sladkeviciaus g. 2         AIBE   2020-07-31   2049-12-31   \n",
       "3      131              Taikos 20         AIBE   1900-01-01   2049-12-31   \n",
       "4      132             Salduvs g.         AIBE   1900-01-01   2049-12-31   \n",
       "\n",
       "   longitude_x  latitude_y  sales_area_m2 chain  x_coord_lks94  y_coord_lks94  \n",
       "0    21.171887   55.668067           1553  AIBE     322098.686    6173998.559  \n",
       "1    24.047287   54.398666             75  AIBE     503070.564    6029086.000  \n",
       "2    24.184648   54.162399            300  AIBE     512058.840    6002807.050  \n",
       "3    24.412276   56.060760            700  AIBE     525677.451    6214161.754  \n",
       "4    23.421890   55.920864             65  AIBE     463863.902    6198662.972  "
      ]
     },
     "metadata": {},
     "output_type": "display_data"
    },
    {
     "name": "stdout",
     "output_type": "stream",
     "text": [
      "<class 'pandas.core.frame.DataFrame'>\n",
      "RangeIndex: 1688 entries, 0 to 1687\n",
      "Data columns (total 11 columns):\n",
      " #   Column         Non-Null Count  Dtype  \n",
      "---  ------         --------------  -----  \n",
      " 0   store_no       1688 non-null   object \n",
      " 1   address        1688 non-null   object \n",
      " 2   chain_format   1688 non-null   object \n",
      " 3   opening_date   1688 non-null   object \n",
      " 4   closing_date   1688 non-null   object \n",
      " 5   longitude_x    1688 non-null   float64\n",
      " 6   latitude_y     1688 non-null   float64\n",
      " 7   sales_area_m2  1688 non-null   int64  \n",
      " 8   chain          1688 non-null   object \n",
      " 9   x_coord_lks94  1688 non-null   float64\n",
      " 10  y_coord_lks94  1688 non-null   float64\n",
      "dtypes: float64(4), int64(1), object(6)\n",
      "memory usage: 145.2+ KB\n"
     ]
    },
    {
     "data": {
      "text/plain": [
       "None"
      ]
     },
     "metadata": {},
     "output_type": "display_data"
    }
   ],
   "source": [
    "# Load and inspect stores data\n",
    "df_stores = pd.read_excel(str('./data/processed/')+dict_config['default']['stores_filename'])\n",
    "display(df_stores.head())\n",
    "display(df_stores.info())"
   ]
  },
  {
   "cell_type": "code",
   "execution_count": 6,
   "metadata": {},
   "outputs": [],
   "source": [
    "# Remove unidentified chains\n",
    "if dict_config['default']['remove_other_stores'] == True:\n",
    "    df_stores = df_stores[df_stores['chain']!='OTHER']"
   ]
  },
  {
   "cell_type": "code",
   "execution_count": 7,
   "metadata": {},
   "outputs": [
    {
     "data": {
      "text/html": [
       "<div>\n",
       "<style scoped>\n",
       "    .dataframe tbody tr th:only-of-type {\n",
       "        vertical-align: middle;\n",
       "    }\n",
       "\n",
       "    .dataframe tbody tr th {\n",
       "        vertical-align: top;\n",
       "    }\n",
       "\n",
       "    .dataframe thead th {\n",
       "        text-align: right;\n",
       "    }\n",
       "</style>\n",
       "<table border=\"1\" class=\"dataframe\">\n",
       "  <thead>\n",
       "    <tr style=\"text-align: right;\">\n",
       "      <th></th>\n",
       "      <th>chain</th>\n",
       "      <th>alpha</th>\n",
       "    </tr>\n",
       "  </thead>\n",
       "  <tbody>\n",
       "    <tr>\n",
       "      <th>0</th>\n",
       "      <td>AIBE</td>\n",
       "      <td>0.999894</td>\n",
       "    </tr>\n",
       "    <tr>\n",
       "      <th>1</th>\n",
       "      <td>RIMI</td>\n",
       "      <td>0.946585</td>\n",
       "    </tr>\n",
       "    <tr>\n",
       "      <th>2</th>\n",
       "      <td>MAXIMA</td>\n",
       "      <td>1.022871</td>\n",
       "    </tr>\n",
       "    <tr>\n",
       "      <th>3</th>\n",
       "      <td>LIDL</td>\n",
       "      <td>1.052330</td>\n",
       "    </tr>\n",
       "    <tr>\n",
       "      <th>4</th>\n",
       "      <td>NORFA</td>\n",
       "      <td>0.948460</td>\n",
       "    </tr>\n",
       "    <tr>\n",
       "      <th>5</th>\n",
       "      <td>IKI</td>\n",
       "      <td>0.993894</td>\n",
       "    </tr>\n",
       "  </tbody>\n",
       "</table>\n",
       "</div>"
      ],
      "text/plain": [
       "    chain     alpha\n",
       "0    AIBE  0.999894\n",
       "1    RIMI  0.946585\n",
       "2  MAXIMA  1.022871\n",
       "3    LIDL  1.052330\n",
       "4   NORFA  0.948460\n",
       "5     IKI  0.993894"
      ]
     },
     "metadata": {},
     "output_type": "display_data"
    },
    {
     "data": {
      "text/html": [
       "<div>\n",
       "<style scoped>\n",
       "    .dataframe tbody tr th:only-of-type {\n",
       "        vertical-align: middle;\n",
       "    }\n",
       "\n",
       "    .dataframe tbody tr th {\n",
       "        vertical-align: top;\n",
       "    }\n",
       "\n",
       "    .dataframe thead th {\n",
       "        text-align: right;\n",
       "    }\n",
       "</style>\n",
       "<table border=\"1\" class=\"dataframe\">\n",
       "  <thead>\n",
       "    <tr style=\"text-align: right;\">\n",
       "      <th></th>\n",
       "      <th>store_no</th>\n",
       "      <th>address</th>\n",
       "      <th>chain_format</th>\n",
       "      <th>opening_date</th>\n",
       "      <th>closing_date</th>\n",
       "      <th>longitude_x</th>\n",
       "      <th>latitude_y</th>\n",
       "      <th>sales_area_m2</th>\n",
       "      <th>chain</th>\n",
       "      <th>x_coord_lks94</th>\n",
       "      <th>y_coord_lks94</th>\n",
       "      <th>alpha</th>\n",
       "    </tr>\n",
       "  </thead>\n",
       "  <tbody>\n",
       "    <tr>\n",
       "      <th>0</th>\n",
       "      <td>89</td>\n",
       "      <td>Taikos prospektas 100</td>\n",
       "      <td>AIBE</td>\n",
       "      <td>1900-01-01</td>\n",
       "      <td>2049-12-31</td>\n",
       "      <td>21.171887</td>\n",
       "      <td>55.668067</td>\n",
       "      <td>1553</td>\n",
       "      <td>AIBE</td>\n",
       "      <td>322098.686</td>\n",
       "      <td>6173998.559</td>\n",
       "      <td>0.999894</td>\n",
       "    </tr>\n",
       "    <tr>\n",
       "      <th>1</th>\n",
       "      <td>115</td>\n",
       "      <td>Vilniaus g. 11</td>\n",
       "      <td>AIBE</td>\n",
       "      <td>1900-01-01</td>\n",
       "      <td>2049-12-31</td>\n",
       "      <td>24.047287</td>\n",
       "      <td>54.398666</td>\n",
       "      <td>75</td>\n",
       "      <td>AIBE</td>\n",
       "      <td>503070.564</td>\n",
       "      <td>6029086.000</td>\n",
       "      <td>0.999894</td>\n",
       "    </tr>\n",
       "    <tr>\n",
       "      <th>2</th>\n",
       "      <td>116</td>\n",
       "      <td>V. Sladkeviciaus g. 2</td>\n",
       "      <td>AIBE</td>\n",
       "      <td>2020-07-31</td>\n",
       "      <td>2049-12-31</td>\n",
       "      <td>24.184648</td>\n",
       "      <td>54.162399</td>\n",
       "      <td>300</td>\n",
       "      <td>AIBE</td>\n",
       "      <td>512058.840</td>\n",
       "      <td>6002807.050</td>\n",
       "      <td>0.999894</td>\n",
       "    </tr>\n",
       "    <tr>\n",
       "      <th>3</th>\n",
       "      <td>131</td>\n",
       "      <td>Taikos 20</td>\n",
       "      <td>AIBE</td>\n",
       "      <td>1900-01-01</td>\n",
       "      <td>2049-12-31</td>\n",
       "      <td>24.412276</td>\n",
       "      <td>56.060760</td>\n",
       "      <td>700</td>\n",
       "      <td>AIBE</td>\n",
       "      <td>525677.451</td>\n",
       "      <td>6214161.754</td>\n",
       "      <td>0.999894</td>\n",
       "    </tr>\n",
       "    <tr>\n",
       "      <th>4</th>\n",
       "      <td>132</td>\n",
       "      <td>Salduvs g.</td>\n",
       "      <td>AIBE</td>\n",
       "      <td>1900-01-01</td>\n",
       "      <td>2049-12-31</td>\n",
       "      <td>23.421890</td>\n",
       "      <td>55.920864</td>\n",
       "      <td>65</td>\n",
       "      <td>AIBE</td>\n",
       "      <td>463863.902</td>\n",
       "      <td>6198662.972</td>\n",
       "      <td>0.999894</td>\n",
       "    </tr>\n",
       "  </tbody>\n",
       "</table>\n",
       "</div>"
      ],
      "text/plain": [
       "  store_no                address chain_format opening_date closing_date  \\\n",
       "0       89  Taikos prospektas 100         AIBE   1900-01-01   2049-12-31   \n",
       "1      115         Vilniaus g. 11         AIBE   1900-01-01   2049-12-31   \n",
       "2      116  V. Sladkeviciaus g. 2         AIBE   2020-07-31   2049-12-31   \n",
       "3      131              Taikos 20         AIBE   1900-01-01   2049-12-31   \n",
       "4      132             Salduvs g.         AIBE   1900-01-01   2049-12-31   \n",
       "\n",
       "   longitude_x  latitude_y  sales_area_m2 chain  x_coord_lks94  y_coord_lks94  \\\n",
       "0    21.171887   55.668067           1553  AIBE     322098.686    6173998.559   \n",
       "1    24.047287   54.398666             75  AIBE     503070.564    6029086.000   \n",
       "2    24.184648   54.162399            300  AIBE     512058.840    6002807.050   \n",
       "3    24.412276   56.060760            700  AIBE     525677.451    6214161.754   \n",
       "4    23.421890   55.920864             65  AIBE     463863.902    6198662.972   \n",
       "\n",
       "      alpha  \n",
       "0  0.999894  \n",
       "1  0.999894  \n",
       "2  0.999894  \n",
       "3  0.999894  \n",
       "4  0.999894  "
      ]
     },
     "metadata": {},
     "output_type": "display_data"
    }
   ],
   "source": [
    "# Load Alpha parameter\n",
    "df_alpha = pd.read_excel(str('./data/processed/')+dict_config['default']['alpha_filename'])\n",
    "df_alpha = df_alpha[[\"chain\", dict_config['default']['alpha_select']]]\n",
    "df_alpha.rename(columns={dict_config['default']['alpha_select']: \"alpha\"}, inplace=True)\n",
    "\n",
    "display(df_alpha)\n",
    "\n",
    "# Add alpha parameter to df_stores\n",
    "df_stores = pd.merge(df_stores, df_alpha, how=\"left\", on=\"chain\")\n",
    "display(df_stores.head())"
   ]
  },
  {
   "cell_type": "code",
   "execution_count": 8,
   "metadata": {
    "scrolled": true
   },
   "outputs": [
    {
     "data": {
      "text/plain": [
       "'DF shape: (10, 12)'"
      ]
     },
     "metadata": {},
     "output_type": "display_data"
    }
   ],
   "source": [
    "# Create df for candidate locations\n",
    "df_candidates = df_stores[(df_stores['chain']==\"IKI\") & (df_stores['opening_date'] >= dict_config['default']['new_stores_date'])]\n",
    "display('DF shape: ' + str(df_candidates.shape))"
   ]
  },
  {
   "cell_type": "code",
   "execution_count": 10,
   "metadata": {},
   "outputs": [
    {
     "name": "stdout",
     "output_type": "stream",
     "text": [
      "All competitors stores\n"
     ]
    },
    {
     "data": {
      "text/html": [
       "<div>\n",
       "<style scoped>\n",
       "    .dataframe tbody tr th:only-of-type {\n",
       "        vertical-align: middle;\n",
       "    }\n",
       "\n",
       "    .dataframe tbody tr th {\n",
       "        vertical-align: top;\n",
       "    }\n",
       "\n",
       "    .dataframe thead th {\n",
       "        text-align: right;\n",
       "    }\n",
       "</style>\n",
       "<table border=\"1\" class=\"dataframe\">\n",
       "  <thead>\n",
       "    <tr style=\"text-align: right;\">\n",
       "      <th></th>\n",
       "      <th>store_no</th>\n",
       "      <th>address</th>\n",
       "      <th>chain_format</th>\n",
       "      <th>opening_date</th>\n",
       "      <th>closing_date</th>\n",
       "      <th>longitude_x</th>\n",
       "      <th>latitude_y</th>\n",
       "      <th>sales_area_m2</th>\n",
       "      <th>chain</th>\n",
       "      <th>x_coord_lks94</th>\n",
       "      <th>y_coord_lks94</th>\n",
       "      <th>alpha</th>\n",
       "    </tr>\n",
       "  </thead>\n",
       "  <tbody>\n",
       "    <tr>\n",
       "      <th>0</th>\n",
       "      <td>89</td>\n",
       "      <td>Taikos prospektas 100</td>\n",
       "      <td>AIBE</td>\n",
       "      <td>1900-01-01</td>\n",
       "      <td>2049-12-31</td>\n",
       "      <td>21.171887</td>\n",
       "      <td>55.668067</td>\n",
       "      <td>1553</td>\n",
       "      <td>AIBE</td>\n",
       "      <td>322098.686</td>\n",
       "      <td>6173998.559</td>\n",
       "      <td>0.999894</td>\n",
       "    </tr>\n",
       "    <tr>\n",
       "      <th>1</th>\n",
       "      <td>115</td>\n",
       "      <td>Vilniaus g. 11</td>\n",
       "      <td>AIBE</td>\n",
       "      <td>1900-01-01</td>\n",
       "      <td>2049-12-31</td>\n",
       "      <td>24.047287</td>\n",
       "      <td>54.398666</td>\n",
       "      <td>75</td>\n",
       "      <td>AIBE</td>\n",
       "      <td>503070.564</td>\n",
       "      <td>6029086.000</td>\n",
       "      <td>0.999894</td>\n",
       "    </tr>\n",
       "    <tr>\n",
       "      <th>2</th>\n",
       "      <td>116</td>\n",
       "      <td>V. Sladkeviciaus g. 2</td>\n",
       "      <td>AIBE</td>\n",
       "      <td>2020-07-31</td>\n",
       "      <td>2049-12-31</td>\n",
       "      <td>24.184648</td>\n",
       "      <td>54.162399</td>\n",
       "      <td>300</td>\n",
       "      <td>AIBE</td>\n",
       "      <td>512058.840</td>\n",
       "      <td>6002807.050</td>\n",
       "      <td>0.999894</td>\n",
       "    </tr>\n",
       "    <tr>\n",
       "      <th>3</th>\n",
       "      <td>131</td>\n",
       "      <td>Taikos 20</td>\n",
       "      <td>AIBE</td>\n",
       "      <td>1900-01-01</td>\n",
       "      <td>2049-12-31</td>\n",
       "      <td>24.412276</td>\n",
       "      <td>56.060760</td>\n",
       "      <td>700</td>\n",
       "      <td>AIBE</td>\n",
       "      <td>525677.451</td>\n",
       "      <td>6214161.754</td>\n",
       "      <td>0.999894</td>\n",
       "    </tr>\n",
       "    <tr>\n",
       "      <th>4</th>\n",
       "      <td>132</td>\n",
       "      <td>Salduvs g.</td>\n",
       "      <td>AIBE</td>\n",
       "      <td>1900-01-01</td>\n",
       "      <td>2049-12-31</td>\n",
       "      <td>23.421890</td>\n",
       "      <td>55.920864</td>\n",
       "      <td>65</td>\n",
       "      <td>AIBE</td>\n",
       "      <td>463863.902</td>\n",
       "      <td>6198662.972</td>\n",
       "      <td>0.999894</td>\n",
       "    </tr>\n",
       "  </tbody>\n",
       "</table>\n",
       "</div>"
      ],
      "text/plain": [
       "  store_no                address chain_format opening_date closing_date  \\\n",
       "0       89  Taikos prospektas 100         AIBE   1900-01-01   2049-12-31   \n",
       "1      115         Vilniaus g. 11         AIBE   1900-01-01   2049-12-31   \n",
       "2      116  V. Sladkeviciaus g. 2         AIBE   2020-07-31   2049-12-31   \n",
       "3      131              Taikos 20         AIBE   1900-01-01   2049-12-31   \n",
       "4      132             Salduvs g.         AIBE   1900-01-01   2049-12-31   \n",
       "\n",
       "   longitude_x  latitude_y  sales_area_m2 chain  x_coord_lks94  y_coord_lks94  \\\n",
       "0    21.171887   55.668067           1553  AIBE     322098.686    6173998.559   \n",
       "1    24.047287   54.398666             75  AIBE     503070.564    6029086.000   \n",
       "2    24.184648   54.162399            300  AIBE     512058.840    6002807.050   \n",
       "3    24.412276   56.060760            700  AIBE     525677.451    6214161.754   \n",
       "4    23.421890   55.920864             65  AIBE     463863.902    6198662.972   \n",
       "\n",
       "      alpha  \n",
       "0  0.999894  \n",
       "1  0.999894  \n",
       "2  0.999894  \n",
       "3  0.999894  \n",
       "4  0.999894  "
      ]
     },
     "metadata": {},
     "output_type": "display_data"
    },
    {
     "data": {
      "text/plain": [
       "(1282, 12)"
      ]
     },
     "metadata": {},
     "output_type": "display_data"
    },
    {
     "name": "stdout",
     "output_type": "stream",
     "text": [
      "All existing own stores\n"
     ]
    },
    {
     "data": {
      "text/plain": [
       "(225, 12)"
      ]
     },
     "metadata": {},
     "output_type": "display_data"
    }
   ],
   "source": [
    "# Create df for competition stores\n",
    "df_competition = df_stores[(df_stores['chain']!=\"IKI\") & (df_stores['opening_date'] < dict_config['default']['new_stores_date'])]\n",
    "print(str('All competitors stores'))\n",
    "display(df_competition.head())\n",
    "display(df_competition.shape)\n",
    "\n",
    "# Create df for existing own stores\n",
    "df_existing_own = df_stores[(df_stores['chain']==\"IKI\") & (df_stores['opening_date'] < dict_config['default']['new_stores_date'])]\n",
    "print(str('All existing own stores'))\n",
    "display(df_existing_own.shape)"
   ]
  },
  {
   "cell_type": "markdown",
   "metadata": {},
   "source": [
    "### Modelling"
   ]
  },
  {
   "cell_type": "markdown",
   "metadata": {},
   "source": [
    "#### Create input variables"
   ]
  },
  {
   "cell_type": "code",
   "execution_count": 11,
   "metadata": {},
   "outputs": [],
   "source": [
    "# Set maximum catchment area.\n",
    "# This value is based on the analysis of customer choice rules in step 2.2\n",
    "threshold = 3"
   ]
  },
  {
   "cell_type": "code",
   "execution_count": 12,
   "metadata": {},
   "outputs": [
    {
     "name": "stdout",
     "output_type": "stream",
     "text": [
      "Existing own stores + existing competitors' stores + candidate locations \n"
     ]
    },
    {
     "data": {
      "text/plain": [
       "1517"
      ]
     },
     "metadata": {},
     "output_type": "display_data"
    },
    {
     "name": "stdout",
     "output_type": "stream",
     "text": [
      "Number of all stores\n"
     ]
    },
    {
     "data": {
      "text/plain": [
       "1517"
      ]
     },
     "metadata": {},
     "output_type": "display_data"
    }
   ],
   "source": [
    "# Create lists for candidate stores, exisitng own stores and existing competitors' stores\n",
    "eo_store_no = [row['store_no'] for ind,row in df_existing_own.iterrows()]\n",
    "ec_store_no = [row['store_no'] for ind,row in df_competition.iterrows()]\n",
    "c_store_no = [row['store_no'] for ind,row in df_candidates.iterrows()]\n",
    "\n",
    "# Dictionary for all stores\n",
    "a_store_no, a_sales_area, a_coordinates, a_alpha = gp.multidict({\n",
    "        row['store_no']: [row['sales_area_m2'], (float(row['latitude_y']), float(row['longitude_x'])), float(row['alpha'])] for ind,row in df_stores[(df_stores['chain']==\"IKI\") | (df_stores['opening_date'] < dict_config['default']['new_stores_date'])].iterrows()\n",
    "    })\n",
    "\n",
    "# Dictionary for demand points\n",
    "d_grid_id, d_demand, d_coordinates = gp.multidict({\n",
    "        row['grid_id']: [row['population'], (float(row['latitude_y']), float(row['longitude_x']))] for ind,row in  df_pop.iterrows()\n",
    "    })\n",
    "\n",
    "# Check total number of stores\n",
    "print('Existing own stores + existing competitors\\' stores + candidate locations ')\n",
    "display(len(eo_store_no) + len(ec_store_no) + len(c_store_no))\n",
    "print('Number of all stores')\n",
    "display(len(a_store_no))"
   ]
  },
  {
   "cell_type": "code",
   "execution_count": 13,
   "metadata": {},
   "outputs": [],
   "source": [
    "# Dictionary of valid demand-facility pairings with attractiveness value.\n",
    "# Valid demand-facility pairs are defined by catchment threshold.\n",
    "valid_pairings, attractiveness = gp.multidict({(facility, demand): (a_sales_area[facility]**a_alpha[facility])/haversine(a_coordinates[facility], d_coordinates[demand])\n",
    "                                               for facility in a_store_no\n",
    "                                               for demand in d_grid_id \n",
    "                                               if haversine(a_coordinates[facility], d_coordinates[demand]) < threshold})"
   ]
  },
  {
   "cell_type": "markdown",
   "metadata": {},
   "source": [
    "#### Check if there are demand points that are only connected to candidate facilities\n",
    "This is done in order to avoid infeasibility due to division by 0.  \n",
    "Relevant when small threshold values are used."
   ]
  },
  {
   "cell_type": "code",
   "execution_count": 14,
   "metadata": {},
   "outputs": [],
   "source": [
    "# Find all facility-demand pairings for demand points that are connected to any of the candidate facilities\n",
    "c_grid_pairings = [(demand, facility) \n",
    "                   for (facility, demand) in valid_pairings \n",
    "                   if demand  in [demand for (facility, demand) in valid_pairings.select(c_store_no,'*')]]"
   ]
  },
  {
   "cell_type": "code",
   "execution_count": 15,
   "metadata": {},
   "outputs": [
    {
     "name": "stdout",
     "output_type": "stream",
     "text": [
      "['1x1kmX48700Y60802']\n"
     ]
    }
   ],
   "source": [
    "# Check the number of facilities that a demand point is connected to.\n",
    "grid_facility_count = Counter(elem[0] for elem in c_grid_pairings)\n",
    "# Get demand points that are only connected to candidate facilities.\n",
    "grids_with_one_facility = [k for k, v in grid_facility_count.items() if v == 1]\n",
    "print(grids_with_one_facility)"
   ]
  },
  {
   "cell_type": "code",
   "execution_count": 16,
   "metadata": {},
   "outputs": [
    {
     "name": "stdout",
     "output_type": "stream",
     "text": [
      "[('I1/00168', '1x1kmX48700Y60802')]\n"
     ]
    }
   ],
   "source": [
    "# Get facility-demand pairings that should be removed to avoid infeasibility of the model.\n",
    "# Model becomes infeasible because with only candidate facility connected to the demand point, denominator may become 0.\n",
    "pairings_to_remove = [(facility, demand) for facility, demand in valid_pairings.select('*',grids_with_one_facility)]\n",
    "print(pairings_to_remove)"
   ]
  },
  {
   "cell_type": "code",
   "execution_count": 17,
   "metadata": {},
   "outputs": [
    {
     "data": {
      "text/plain": [
       "[('I1/00168', '1x1kmX48700Y60802')]"
      ]
     },
     "execution_count": 17,
     "metadata": {},
     "output_type": "execute_result"
    }
   ],
   "source": [
    "# Remove facility-demand pairing from valid_pairings dictionary\n",
    "[valid_pairings.pop(valid_pairings.index((facility, demand))) for facility, demand in pairings_to_remove]"
   ]
  },
  {
   "cell_type": "code",
   "execution_count": 18,
   "metadata": {},
   "outputs": [
    {
     "data": {
      "text/plain": [
       "[401.012570712505]"
      ]
     },
     "execution_count": 18,
     "metadata": {},
     "output_type": "execute_result"
    }
   ],
   "source": [
    "# Remove faiclity-demand pairing from attractiveness dictionary\n",
    "[attractiveness.pop((facility, demand)) for facility, demand in pairings_to_remove]"
   ]
  },
  {
   "cell_type": "code",
   "execution_count": 19,
   "metadata": {},
   "outputs": [],
   "source": [
    "# Generate a list of valid grid_ids\n",
    "d_valid_grid_id = set([demand for (facility, demand) in valid_pairings])"
   ]
  },
  {
   "cell_type": "code",
   "execution_count": 20,
   "metadata": {},
   "outputs": [
    {
     "data": {
      "text/plain": [
       "'Number of demand points: 34664'"
      ]
     },
     "metadata": {},
     "output_type": "display_data"
    },
    {
     "data": {
      "text/plain": [
       "'Number of covered demand points: 10167'"
      ]
     },
     "metadata": {},
     "output_type": "display_data"
    }
   ],
   "source": [
    "# Check how many demand points are not covered by any of the facilities\n",
    "display('Number of demand points: ' + str(len(d_grid_id)))\n",
    "display('Number of covered demand points: ' + str(len(d_valid_grid_id)))"
   ]
  },
  {
   "cell_type": "code",
   "execution_count": 21,
   "metadata": {},
   "outputs": [
    {
     "data": {
      "text/plain": [
       "5"
      ]
     },
     "metadata": {},
     "output_type": "display_data"
    },
    {
     "data": {
      "text/plain": [
       "127049"
      ]
     },
     "metadata": {},
     "output_type": "display_data"
    }
   ],
   "source": [
    "# Get boundaries for attractiveness\n",
    "min_attract = floor(min([sum(attractiveness.select('*',demand)) for demand in d_valid_grid_id]))\n",
    "display(min_attract)\n",
    "max_attract = ceil(max([sum(attractiveness.select('*',demand)) for demand in d_valid_grid_id]))\n",
    "display(max_attract)"
   ]
  },
  {
   "cell_type": "markdown",
   "metadata": {},
   "source": [
    "#### Model formulation: new and existing facilities"
   ]
  },
  {
   "cell_type": "code",
   "execution_count": 23,
   "metadata": {},
   "outputs": [
    {
     "name": "stdout",
     "output_type": "stream",
     "text": [
      "##### New and existing own facilities included #####\n"
     ]
    },
    {
     "data": {
      "text/plain": [
       "1"
      ]
     },
     "metadata": {},
     "output_type": "display_data"
    },
    {
     "name": "stdout",
     "output_type": "stream",
     "text": [
      "Set parameter NonConvex to value 2\n",
      "Gurobi Optimizer version 9.5.2 build v9.5.2rc0 (win64)\n",
      "Thread count: 4 physical cores, 8 logical processors, using up to 8 threads\n",
      "Optimize a model with 20335 rows, 30511 columns and 20906 nonzeros\n",
      "Model fingerprint: 0x11124005\n",
      "Model has 10167 quadratic objective terms\n",
      "Model has 10167 quadratic constraints\n",
      "Variable types: 30501 continuous, 10 integer (10 binary)\n",
      "Coefficient statistics:\n",
      "  Matrix range     [1e+00, 1e+05]\n",
      "  QMatrix range    [1e+00, 1e+00]\n",
      "  Objective range  [0e+00, 0e+00]\n",
      "  QObjective range [6e+00, 3e+04]\n",
      "  Bounds range     [8e-06, 1e+05]\n",
      "  RHS range        [1e+00, 9e+04]\n",
      "  QRHS range       [1e+00, 1e+00]\n",
      "Presolve removed 20192 rows and 30291 columns\n",
      "Presolve time: 0.14s\n",
      "Presolved: 570 rows, 292 columns, 1444 nonzeros\n",
      "Presolved model has 142 bilinear constraint(s)\n",
      "Variable types: 285 continuous, 7 integer (7 binary)\n",
      "\n",
      "Root relaxation: objective 4.115865e+05, 383 iterations, 0.01 seconds (0.00 work units)\n",
      "\n",
      "    Nodes    |    Current Node    |     Objective Bounds      |     Work\n",
      " Expl Unexpl |  Obj  Depth IntInf | Incumbent    BestBd   Gap | It/Node Time\n",
      "\n",
      "     0     0 411586.546    0   51          - 411586.546      -     -    0s\n",
      "H    0     0                    411440.70663 411586.546  0.04%     -    0s\n",
      "     0     0 411557.439    0   44 411440.707 411557.439  0.03%     -    0s\n",
      "     0     0     cutoff    0      411440.707 411440.707  0.00%     -    0s\n",
      "\n",
      "Explored 1 nodes (402 simplex iterations) in 0.23 seconds (0.06 work units)\n",
      "Thread count was 8 (of 8 available processors)\n",
      "\n",
      "Solution count 1: 411441 \n",
      "\n",
      "Optimal solution found (tolerance 1.00e-04)\n",
      "Warning: max constraint violation (2.3215e-06) exceeds tolerance\n",
      "Best objective 4.114407066284e+05, best bound 4.114407066284e+05, gap 0.0000%\n",
      "\n",
      " Build facility at location I1/00168.\n"
     ]
    },
    {
     "data": {
      "text/plain": [
       "datetime.datetime(2023, 1, 5, 9, 38, 59, 47992)"
      ]
     },
     "metadata": {},
     "output_type": "display_data"
    },
    {
     "name": "stdout",
     "output_type": "stream",
     "text": [
      "Runing time: 0:02:30.306794\n"
     ]
    },
    {
     "data": {
      "text/plain": [
       "2"
      ]
     },
     "metadata": {},
     "output_type": "display_data"
    },
    {
     "name": "stdout",
     "output_type": "stream",
     "text": [
      "Set parameter NonConvex to value 2\n",
      "Gurobi Optimizer version 9.5.2 build v9.5.2rc0 (win64)\n",
      "Thread count: 4 physical cores, 8 logical processors, using up to 8 threads\n",
      "Optimize a model with 20335 rows, 30511 columns and 20906 nonzeros\n",
      "Model fingerprint: 0x51d2c6aa\n",
      "Model has 10167 quadratic objective terms\n",
      "Model has 10167 quadratic constraints\n",
      "Variable types: 30501 continuous, 10 integer (10 binary)\n",
      "Coefficient statistics:\n",
      "  Matrix range     [1e+00, 1e+05]\n",
      "  QMatrix range    [1e+00, 1e+00]\n",
      "  Objective range  [0e+00, 0e+00]\n",
      "  QObjective range [6e+00, 3e+04]\n",
      "  Bounds range     [8e-06, 1e+05]\n",
      "  RHS range        [2e+00, 9e+04]\n",
      "  QRHS range       [1e+00, 1e+00]\n",
      "Presolve removed 20192 rows and 30289 columns\n",
      "Presolve time: 0.07s\n",
      "Presolved: 570 rows, 294 columns, 1446 nonzeros\n",
      "Presolved model has 142 bilinear constraint(s)\n",
      "Variable types: 285 continuous, 9 integer (9 binary)\n",
      "\n",
      "Root relaxation: objective 4.150259e+05, 282 iterations, 0.00 seconds (0.00 work units)\n",
      "\n",
      "    Nodes    |    Current Node    |     Objective Bounds      |     Work\n",
      " Expl Unexpl |  Obj  Depth IntInf | Incumbent    BestBd   Gap | It/Node Time\n",
      "\n",
      "     0     0 415025.945    0   50          - 415025.945      -     -    0s\n",
      "H    0     0                    414821.49322 415025.945  0.05%     -    0s\n",
      "     0     0     cutoff    0      414821.493 414821.493  0.00%     -    0s\n",
      "\n",
      "Cutting planes:\n",
      "  RLT: 1\n",
      "\n",
      "Explored 1 nodes (299 simplex iterations) in 0.13 seconds (0.06 work units)\n",
      "Thread count was 8 (of 8 available processors)\n",
      "\n",
      "Solution count 1: 414821 \n",
      "\n",
      "Optimal solution found (tolerance 1.00e-04)\n",
      "Warning: max constraint violation (2.3215e-06) exceeds tolerance\n",
      "Best objective 4.148214932227e+05, best bound 4.148214932227e+05, gap 0.0000%\n",
      "\n",
      " Build facility at location I1/00168.\n",
      "\n",
      " Build facility at location I1/00234.\n"
     ]
    },
    {
     "data": {
      "text/plain": [
       "datetime.datetime(2023, 1, 5, 9, 41, 21, 481247)"
      ]
     },
     "metadata": {},
     "output_type": "display_data"
    },
    {
     "name": "stdout",
     "output_type": "stream",
     "text": [
      "Runing time: 0:02:22.432203\n"
     ]
    },
    {
     "data": {
      "text/plain": [
       "3"
      ]
     },
     "metadata": {},
     "output_type": "display_data"
    },
    {
     "name": "stdout",
     "output_type": "stream",
     "text": [
      "Set parameter NonConvex to value 2\n",
      "Gurobi Optimizer version 9.5.2 build v9.5.2rc0 (win64)\n",
      "Thread count: 4 physical cores, 8 logical processors, using up to 8 threads\n",
      "Optimize a model with 20335 rows, 30511 columns and 20906 nonzeros\n",
      "Model fingerprint: 0xbf287ce5\n",
      "Model has 10167 quadratic objective terms\n",
      "Model has 10167 quadratic constraints\n",
      "Variable types: 30501 continuous, 10 integer (10 binary)\n",
      "Coefficient statistics:\n",
      "  Matrix range     [1e+00, 1e+05]\n",
      "  QMatrix range    [1e+00, 1e+00]\n",
      "  Objective range  [0e+00, 0e+00]\n",
      "  QObjective range [6e+00, 3e+04]\n",
      "  Bounds range     [8e-06, 1e+05]\n",
      "  RHS range        [3e+00, 9e+04]\n",
      "  QRHS range       [1e+00, 1e+00]\n",
      "Presolve removed 20192 rows and 30288 columns\n",
      "Presolve time: 0.09s\n",
      "Presolved: 570 rows, 295 columns, 1447 nonzeros\n",
      "Presolved model has 142 bilinear constraint(s)\n",
      "Variable types: 285 continuous, 10 integer (10 binary)\n",
      "\n",
      "Root relaxation: objective 4.178037e+05, 400 iterations, 0.00 seconds (0.00 work units)\n",
      "\n",
      "    Nodes    |    Current Node    |     Objective Bounds      |     Work\n",
      " Expl Unexpl |  Obj  Depth IntInf | Incumbent    BestBd   Gap | It/Node Time\n",
      "\n",
      "     0     0 417803.650    0   50          - 417803.650      -     -    0s\n",
      "H    0     0                    417599.19839 417803.650  0.05%     -    0s\n",
      "     0     0     cutoff    0      417599.198 417599.198  0.00%     -    0s\n",
      "\n",
      "Explored 1 nodes (400 simplex iterations) in 0.15 seconds (0.06 work units)\n",
      "Thread count was 8 (of 8 available processors)\n",
      "\n",
      "Solution count 1: 417599 \n",
      "\n",
      "Optimal solution found (tolerance 1.00e-04)\n",
      "Warning: max constraint violation (2.3215e-06) exceeds tolerance\n",
      "Best objective 4.175991983911e+05, best bound 4.175991983911e+05, gap 0.0000%\n",
      "\n",
      " Build facility at location I1/00168.\n",
      "\n",
      " Build facility at location I1/00171.\n",
      "\n",
      " Build facility at location I1/00234.\n"
     ]
    },
    {
     "data": {
      "text/plain": [
       "datetime.datetime(2023, 1, 5, 9, 43, 34, 934114)"
      ]
     },
     "metadata": {},
     "output_type": "display_data"
    },
    {
     "name": "stdout",
     "output_type": "stream",
     "text": [
      "Runing time: 0:02:13.451867\n"
     ]
    },
    {
     "data": {
      "text/plain": [
       "4"
      ]
     },
     "metadata": {},
     "output_type": "display_data"
    },
    {
     "name": "stdout",
     "output_type": "stream",
     "text": [
      "Set parameter NonConvex to value 2\n",
      "Gurobi Optimizer version 9.5.2 build v9.5.2rc0 (win64)\n",
      "Thread count: 4 physical cores, 8 logical processors, using up to 8 threads\n",
      "Optimize a model with 20335 rows, 30511 columns and 20906 nonzeros\n",
      "Model fingerprint: 0xd46f5e42\n",
      "Model has 10167 quadratic objective terms\n",
      "Model has 10167 quadratic constraints\n",
      "Variable types: 30501 continuous, 10 integer (10 binary)\n",
      "Coefficient statistics:\n",
      "  Matrix range     [1e+00, 1e+05]\n",
      "  QMatrix range    [1e+00, 1e+00]\n",
      "  Objective range  [0e+00, 0e+00]\n",
      "  QObjective range [6e+00, 3e+04]\n",
      "  Bounds range     [8e-06, 1e+05]\n",
      "  RHS range        [4e+00, 9e+04]\n",
      "  QRHS range       [1e+00, 1e+00]\n",
      "Presolve removed 20192 rows and 30288 columns\n",
      "Presolve time: 0.06s\n",
      "Presolved: 570 rows, 295 columns, 1447 nonzeros\n",
      "Presolved model has 142 bilinear constraint(s)\n",
      "Variable types: 285 continuous, 10 integer (10 binary)\n",
      "\n",
      "Root relaxation: objective 4.202990e+05, 426 iterations, 0.00 seconds (0.00 work units)\n",
      "\n",
      "    Nodes    |    Current Node    |     Objective Bounds      |     Work\n",
      " Expl Unexpl |  Obj  Depth IntInf | Incumbent    BestBd   Gap | It/Node Time\n",
      "\n",
      "     0     0 420298.995    0   98          - 420298.995      -     -    0s\n",
      "H    0     0                    420017.02429 420298.995  0.07%     -    0s\n",
      "     0     0 420023.132    0   84 420017.024 420023.132  0.00%     -    0s\n",
      "\n",
      "Explored 1 nodes (450 simplex iterations) in 0.13 seconds (0.06 work units)\n",
      "Thread count was 8 (of 8 available processors)\n",
      "\n",
      "Solution count 1: 420017 \n",
      "\n",
      "Optimal solution found (tolerance 1.00e-04)\n",
      "Warning: max constraint violation (2.3215e-06) exceeds tolerance\n",
      "Best objective 4.200170242880e+05, best bound 4.200231317493e+05, gap 0.0015%\n",
      "\n",
      " Build facility at location I1/00168.\n",
      "\n",
      " Build facility at location I1/00171.\n",
      "\n",
      " Build facility at location I1/00209.\n",
      "\n",
      " Build facility at location I1/00234.\n"
     ]
    },
    {
     "data": {
      "text/plain": [
       "datetime.datetime(2023, 1, 5, 9, 45, 53, 960169)"
      ]
     },
     "metadata": {},
     "output_type": "display_data"
    },
    {
     "name": "stdout",
     "output_type": "stream",
     "text": [
      "Runing time: 0:02:19.025044\n"
     ]
    },
    {
     "data": {
      "text/plain": [
       "5"
      ]
     },
     "metadata": {},
     "output_type": "display_data"
    },
    {
     "name": "stdout",
     "output_type": "stream",
     "text": [
      "Set parameter NonConvex to value 2\n",
      "Gurobi Optimizer version 9.5.2 build v9.5.2rc0 (win64)\n",
      "Thread count: 4 physical cores, 8 logical processors, using up to 8 threads\n",
      "Optimize a model with 20335 rows, 30511 columns and 20906 nonzeros\n",
      "Model fingerprint: 0x055d153b\n",
      "Model has 10167 quadratic objective terms\n",
      "Model has 10167 quadratic constraints\n",
      "Variable types: 30501 continuous, 10 integer (10 binary)\n",
      "Coefficient statistics:\n",
      "  Matrix range     [1e+00, 1e+05]\n",
      "  QMatrix range    [1e+00, 1e+00]\n",
      "  Objective range  [0e+00, 0e+00]\n",
      "  QObjective range [6e+00, 3e+04]\n",
      "  Bounds range     [8e-06, 1e+05]\n",
      "  RHS range        [5e+00, 9e+04]\n",
      "  QRHS range       [1e+00, 1e+00]\n",
      "Presolve removed 20192 rows and 30288 columns\n",
      "Presolve time: 0.08s\n",
      "Presolved: 570 rows, 295 columns, 1447 nonzeros\n",
      "Presolved model has 142 bilinear constraint(s)\n",
      "Variable types: 285 continuous, 10 integer (10 binary)\n",
      "\n",
      "Root relaxation: objective 4.225720e+05, 441 iterations, 0.00 seconds (0.00 work units)\n",
      "\n",
      "    Nodes    |    Current Node    |     Objective Bounds      |     Work\n",
      " Expl Unexpl |  Obj  Depth IntInf | Incumbent    BestBd   Gap | It/Node Time\n",
      "\n",
      "     0     0 422571.988    0  134          - 422571.988      -     -    0s\n",
      "H    0     0                    422251.99990 422571.988  0.08%     -    0s\n",
      "     0     0 422402.040    0   88 422252.000 422402.040  0.04%     -    0s\n",
      "     0     2 422402.040    0   88 422252.000 422402.040  0.04%     -    0s\n",
      "\n",
      "Explored 1 nodes (473 simplex iterations) in 0.16 seconds (0.06 work units)\n",
      "Thread count was 8 (of 8 available processors)\n",
      "\n",
      "Solution count 1: 422252 \n",
      "\n",
      "Optimal solution found (tolerance 1.00e-04)\n",
      "Warning: max constraint violation (2.3215e-06) exceeds tolerance\n",
      "Best objective 4.222519998969e+05, best bound 4.222941349968e+05, gap 0.0100%\n",
      "\n",
      " Build facility at location I1/00168.\n",
      "\n",
      " Build facility at location I1/00171.\n",
      "\n",
      " Build facility at location I1/00172.\n",
      "\n",
      " Build facility at location I1/00209.\n",
      "\n",
      " Build facility at location I1/00234.\n"
     ]
    },
    {
     "data": {
      "text/plain": [
       "datetime.datetime(2023, 1, 5, 9, 48, 19, 620562)"
      ]
     },
     "metadata": {},
     "output_type": "display_data"
    },
    {
     "name": "stdout",
     "output_type": "stream",
     "text": [
      "Runing time: 0:02:25.658058\n"
     ]
    },
    {
     "data": {
      "text/plain": [
       "6"
      ]
     },
     "metadata": {},
     "output_type": "display_data"
    },
    {
     "name": "stdout",
     "output_type": "stream",
     "text": [
      "Set parameter NonConvex to value 2\n",
      "Gurobi Optimizer version 9.5.2 build v9.5.2rc0 (win64)\n",
      "Thread count: 4 physical cores, 8 logical processors, using up to 8 threads\n",
      "Optimize a model with 20335 rows, 30511 columns and 20906 nonzeros\n",
      "Model fingerprint: 0x5e53fd04\n",
      "Model has 10167 quadratic objective terms\n",
      "Model has 10167 quadratic constraints\n",
      "Variable types: 30501 continuous, 10 integer (10 binary)\n",
      "Coefficient statistics:\n",
      "  Matrix range     [1e+00, 1e+05]\n",
      "  QMatrix range    [1e+00, 1e+00]\n",
      "  Objective range  [0e+00, 0e+00]\n",
      "  QObjective range [6e+00, 3e+04]\n",
      "  Bounds range     [8e-06, 1e+05]\n",
      "  RHS range        [6e+00, 9e+04]\n",
      "  QRHS range       [1e+00, 1e+00]\n",
      "Presolve removed 20192 rows and 30288 columns\n",
      "Presolve time: 0.08s\n",
      "Presolved: 570 rows, 295 columns, 1447 nonzeros\n",
      "Presolved model has 142 bilinear constraint(s)\n",
      "Variable types: 285 continuous, 10 integer (10 binary)\n",
      "\n",
      "Root relaxation: objective 4.244821e+05, 386 iterations, 0.01 seconds (0.00 work units)\n",
      "\n",
      "    Nodes    |    Current Node    |     Objective Bounds      |     Work\n",
      " Expl Unexpl |  Obj  Depth IntInf | Incumbent    BestBd   Gap | It/Node Time\n",
      "\n",
      "     0     0 424482.112    0   82          - 424482.112      -     -    0s\n",
      "H    0     0                    424423.03608 424482.112  0.01%     -    0s\n",
      "     0     0     cutoff    0      424423.036 424423.036  0.00%     -    0s\n",
      "\n",
      "Explored 1 nodes (386 simplex iterations) in 0.15 seconds (0.06 work units)\n",
      "Thread count was 8 (of 8 available processors)\n",
      "\n",
      "Solution count 1: 424423 \n",
      "\n",
      "Optimal solution found (tolerance 1.00e-04)\n",
      "Warning: max constraint violation (2.3215e-06) exceeds tolerance\n",
      "Best objective 4.244230360830e+05, best bound 4.244230360830e+05, gap 0.0000%\n",
      "\n",
      " Build facility at location I1/00168.\n",
      "\n",
      " Build facility at location I1/00171.\n",
      "\n",
      " Build facility at location I1/00172.\n",
      "\n",
      " Build facility at location I1/00178.\n",
      "\n",
      " Build facility at location I1/00209.\n",
      "\n",
      " Build facility at location I1/00234.\n"
     ]
    },
    {
     "data": {
      "text/plain": [
       "datetime.datetime(2023, 1, 5, 9, 50, 39, 595420)"
      ]
     },
     "metadata": {},
     "output_type": "display_data"
    },
    {
     "name": "stdout",
     "output_type": "stream",
     "text": [
      "Runing time: 0:02:19.973399\n"
     ]
    },
    {
     "data": {
      "text/plain": [
       "7"
      ]
     },
     "metadata": {},
     "output_type": "display_data"
    },
    {
     "name": "stdout",
     "output_type": "stream",
     "text": [
      "Set parameter NonConvex to value 2\n",
      "Gurobi Optimizer version 9.5.2 build v9.5.2rc0 (win64)\n",
      "Thread count: 4 physical cores, 8 logical processors, using up to 8 threads\n",
      "Optimize a model with 20335 rows, 30511 columns and 20906 nonzeros\n",
      "Model fingerprint: 0x1c244749\n",
      "Model has 10167 quadratic objective terms\n",
      "Model has 10167 quadratic constraints\n",
      "Variable types: 30501 continuous, 10 integer (10 binary)\n",
      "Coefficient statistics:\n",
      "  Matrix range     [1e+00, 1e+05]\n",
      "  QMatrix range    [1e+00, 1e+00]\n",
      "  Objective range  [0e+00, 0e+00]\n",
      "  QObjective range [6e+00, 3e+04]\n",
      "  Bounds range     [8e-06, 1e+05]\n",
      "  RHS range        [6e+00, 9e+04]\n",
      "  QRHS range       [1e+00, 1e+00]\n",
      "Presolve removed 20192 rows and 30288 columns\n",
      "Presolve time: 0.09s\n",
      "Presolved: 570 rows, 295 columns, 1447 nonzeros\n",
      "Presolved model has 142 bilinear constraint(s)\n",
      "Variable types: 285 continuous, 10 integer (10 binary)\n",
      "\n",
      "Root relaxation: objective 4.261337e+05, 332 iterations, 0.01 seconds (0.00 work units)\n",
      "\n",
      "    Nodes    |    Current Node    |     Objective Bounds      |     Work\n",
      " Expl Unexpl |  Obj  Depth IntInf | Incumbent    BestBd   Gap | It/Node Time\n",
      "\n",
      "     0     0 426133.749    0   92          - 426133.749      -     -    0s\n",
      "H    0     0                    426071.21348 426133.749  0.01%     -    0s\n",
      "     0     0     cutoff    0      426071.213 426071.213  0.00%     -    0s\n",
      "\n",
      "Explored 1 nodes (332 simplex iterations) in 0.18 seconds (0.06 work units)\n",
      "Thread count was 8 (of 8 available processors)\n",
      "\n",
      "Solution count 1: 426071 \n",
      "\n",
      "Optimal solution found (tolerance 1.00e-04)\n",
      "Warning: max constraint violation (2.3215e-06) exceeds tolerance\n",
      "Best objective 4.260712134791e+05, best bound 4.260712134791e+05, gap 0.0000%\n",
      "\n",
      " Build facility at location I1/00168.\n",
      "\n",
      " Build facility at location I1/00171.\n",
      "\n",
      " Build facility at location I1/00172.\n",
      "\n",
      " Build facility at location I1/00178.\n",
      "\n",
      " Build facility at location I1/00209.\n",
      "\n",
      " Build facility at location I1/00215.\n",
      "\n",
      " Build facility at location I1/00234.\n"
     ]
    },
    {
     "data": {
      "text/plain": [
       "datetime.datetime(2023, 1, 5, 9, 53, 2, 451284)"
      ]
     },
     "metadata": {},
     "output_type": "display_data"
    },
    {
     "name": "stdout",
     "output_type": "stream",
     "text": [
      "Runing time: 0:02:22.853586\n"
     ]
    },
    {
     "data": {
      "text/plain": [
       "8"
      ]
     },
     "metadata": {},
     "output_type": "display_data"
    },
    {
     "name": "stdout",
     "output_type": "stream",
     "text": [
      "Set parameter NonConvex to value 2\n",
      "Gurobi Optimizer version 9.5.2 build v9.5.2rc0 (win64)\n",
      "Thread count: 4 physical cores, 8 logical processors, using up to 8 threads\n",
      "Optimize a model with 20335 rows, 30511 columns and 20906 nonzeros\n",
      "Model fingerprint: 0xaf7bb364\n",
      "Model has 10167 quadratic objective terms\n",
      "Model has 10167 quadratic constraints\n",
      "Variable types: 30501 continuous, 10 integer (10 binary)\n",
      "Coefficient statistics:\n",
      "  Matrix range     [1e+00, 1e+05]\n",
      "  QMatrix range    [1e+00, 1e+00]\n",
      "  Objective range  [0e+00, 0e+00]\n",
      "  QObjective range [6e+00, 3e+04]\n",
      "  Bounds range     [8e-06, 1e+05]\n",
      "  RHS range        [6e+00, 9e+04]\n",
      "  QRHS range       [1e+00, 1e+00]\n",
      "Presolve removed 20192 rows and 30288 columns\n",
      "Presolve time: 0.08s\n",
      "Presolved: 570 rows, 295 columns, 1447 nonzeros\n",
      "Presolved model has 142 bilinear constraint(s)\n",
      "Variable types: 285 continuous, 10 integer (10 binary)\n",
      "\n",
      "Root relaxation: objective 4.275599e+05, 337 iterations, 0.00 seconds (0.00 work units)\n",
      "\n",
      "    Nodes    |    Current Node    |     Objective Bounds      |     Work\n",
      " Expl Unexpl |  Obj  Depth IntInf | Incumbent    BestBd   Gap | It/Node Time\n",
      "\n",
      "     0     0 427559.884    0   36          - 427559.884      -     -    0s\n",
      "H    0     0                    427559.00160 427559.884  0.00%     -    0s\n",
      "\n",
      "Explored 1 nodes (337 simplex iterations) in 0.13 seconds (0.06 work units)\n",
      "Thread count was 8 (of 8 available processors)\n",
      "\n",
      "Solution count 1: 427559 \n",
      "\n",
      "Optimal solution found (tolerance 1.00e-04)\n",
      "Warning: max constraint violation (2.3215e-06) exceeds tolerance\n",
      "Best objective 4.275590016024e+05, best bound 4.275598836035e+05, gap 0.0002%\n",
      "\n",
      " Build facility at location I1/00168.\n",
      "\n",
      " Build facility at location I1/00171.\n",
      "\n",
      " Build facility at location I1/00172.\n",
      "\n",
      " Build facility at location I1/00178.\n",
      "\n",
      " Build facility at location I1/00209.\n",
      "\n",
      " Build facility at location I1/00215.\n",
      "\n",
      " Build facility at location I1/00234.\n",
      "\n",
      " Build facility at location I1/00235.\n"
     ]
    },
    {
     "data": {
      "text/plain": [
       "datetime.datetime(2023, 1, 5, 9, 55, 25, 142616)"
      ]
     },
     "metadata": {},
     "output_type": "display_data"
    },
    {
     "name": "stdout",
     "output_type": "stream",
     "text": [
      "Runing time: 0:02:22.689082\n"
     ]
    },
    {
     "data": {
      "text/plain": [
       "9"
      ]
     },
     "metadata": {},
     "output_type": "display_data"
    },
    {
     "name": "stdout",
     "output_type": "stream",
     "text": [
      "Set parameter NonConvex to value 2\n",
      "Gurobi Optimizer version 9.5.2 build v9.5.2rc0 (win64)\n",
      "Thread count: 4 physical cores, 8 logical processors, using up to 8 threads\n",
      "Optimize a model with 20335 rows, 30511 columns and 20906 nonzeros\n",
      "Model fingerprint: 0xb4f2dc30\n",
      "Model has 10167 quadratic objective terms\n",
      "Model has 10167 quadratic constraints\n",
      "Variable types: 30501 continuous, 10 integer (10 binary)\n",
      "Coefficient statistics:\n",
      "  Matrix range     [1e+00, 1e+05]\n",
      "  QMatrix range    [1e+00, 1e+00]\n",
      "  Objective range  [0e+00, 0e+00]\n",
      "  QObjective range [6e+00, 3e+04]\n",
      "  Bounds range     [8e-06, 1e+05]\n",
      "  RHS range        [6e+00, 9e+04]\n",
      "  QRHS range       [1e+00, 1e+00]\n",
      "Presolve removed 20192 rows and 30290 columns\n",
      "Presolve time: 0.06s\n",
      "Presolved: 570 rows, 293 columns, 1445 nonzeros\n",
      "Presolved model has 142 bilinear constraint(s)\n",
      "Variable types: 285 continuous, 8 integer (8 binary)\n",
      "\n",
      "Root relaxation: objective 4.287754e+05, 288 iterations, 0.00 seconds (0.00 work units)\n",
      "\n",
      "    Nodes    |    Current Node    |     Objective Bounds      |     Work\n",
      " Expl Unexpl |  Obj  Depth IntInf | Incumbent    BestBd   Gap | It/Node Time\n",
      "\n",
      "     0     0 428775.401    0   36          - 428775.401      -     -    0s\n",
      "H    0     0                    428774.51893 428775.401  0.00%     -    0s\n",
      "\n",
      "Explored 1 nodes (288 simplex iterations) in 0.11 seconds (0.06 work units)\n",
      "Thread count was 8 (of 8 available processors)\n",
      "\n",
      "Solution count 1: 428775 \n",
      "\n",
      "Optimal solution found (tolerance 1.00e-04)\n",
      "Warning: max constraint violation (2.3215e-06) exceeds tolerance\n",
      "Best objective 4.287745189327e+05, best bound 4.287754009338e+05, gap 0.0002%\n",
      "\n",
      " Build facility at location I1/00168.\n",
      "\n",
      " Build facility at location I1/00171.\n",
      "\n",
      " Build facility at location I1/00172.\n",
      "\n",
      " Build facility at location I1/00178.\n",
      "\n",
      " Build facility at location I1/00209.\n",
      "\n",
      " Build facility at location I1/00215.\n",
      "\n",
      " Build facility at location I1/00227.\n",
      "\n",
      " Build facility at location I1/00234.\n",
      "\n",
      " Build facility at location I1/00235.\n"
     ]
    },
    {
     "data": {
      "text/plain": [
       "datetime.datetime(2023, 1, 5, 9, 58, 7, 839502)"
      ]
     },
     "metadata": {},
     "output_type": "display_data"
    },
    {
     "name": "stdout",
     "output_type": "stream",
     "text": [
      "Runing time: 0:02:42.695474\n",
      "##### New facilities only #####\n"
     ]
    },
    {
     "data": {
      "text/plain": [
       "1"
      ]
     },
     "metadata": {},
     "output_type": "display_data"
    },
    {
     "name": "stdout",
     "output_type": "stream",
     "text": [
      "Set parameter NonConvex to value 2\n",
      "Gurobi Optimizer version 9.5.2 build v9.5.2rc0 (win64)\n",
      "Thread count: 4 physical cores, 8 logical processors, using up to 8 threads\n",
      "Optimize a model with 20335 rows, 30511 columns and 20906 nonzeros\n",
      "Model fingerprint: 0x661ce1d4\n",
      "Model has 10167 quadratic objective terms\n",
      "Model has 10167 quadratic constraints\n",
      "Variable types: 30501 continuous, 10 integer (10 binary)\n",
      "Coefficient statistics:\n",
      "  Matrix range     [1e+00, 1e+05]\n",
      "  QMatrix range    [1e+00, 1e+00]\n",
      "  Objective range  [0e+00, 0e+00]\n",
      "  QObjective range [6e+00, 3e+04]\n",
      "  Bounds range     [8e-06, 1e+05]\n",
      "  RHS range        [1e+00, 9e+04]\n",
      "  QRHS range       [1e+00, 1e+00]\n",
      "Presolve removed 20192 rows and 30291 columns\n",
      "Presolve time: 0.08s\n",
      "Presolved: 570 rows, 292 columns, 1374 nonzeros\n",
      "Presolved model has 142 bilinear constraint(s)\n",
      "Variable types: 285 continuous, 7 integer (7 binary)\n",
      "\n",
      "Root relaxation: objective 3.878923e+03, 287 iterations, 0.00 seconds (0.00 work units)\n",
      "\n",
      "    Nodes    |    Current Node    |     Objective Bounds      |     Work\n",
      " Expl Unexpl |  Obj  Depth IntInf | Incumbent    BestBd   Gap | It/Node Time\n",
      "\n",
      "     0     0 3878.92267    0   54          - 3878.92267      -     -    0s\n",
      "H    0     0                    3802.0833239 3878.92267  2.02%     -    0s\n",
      "     0     0 3823.73107    0   44 3802.08332 3823.73107  0.57%     -    0s\n",
      "     0     0     cutoff    0      3802.08332 3802.08332  0.00%     -    0s\n",
      "\n",
      "Explored 1 nodes (317 simplex iterations) in 0.16 seconds (0.06 work units)\n",
      "Thread count was 8 (of 8 available processors)\n",
      "\n",
      "Solution count 1: 3802.08 \n",
      "\n",
      "Optimal solution found (tolerance 1.00e-04)\n",
      "Best objective 3.802083323852e+03, best bound 3.802083323852e+03, gap 0.0000%\n",
      "\n",
      " Build facility at location I1/00234.\n"
     ]
    },
    {
     "data": {
      "text/plain": [
       "datetime.datetime(2023, 1, 5, 10, 0, 32, 360326)"
      ]
     },
     "metadata": {},
     "output_type": "display_data"
    },
    {
     "name": "stdout",
     "output_type": "stream",
     "text": [
      "Runing time: 0:02:24.519598\n"
     ]
    },
    {
     "data": {
      "text/plain": [
       "2"
      ]
     },
     "metadata": {},
     "output_type": "display_data"
    },
    {
     "name": "stdout",
     "output_type": "stream",
     "text": [
      "Set parameter NonConvex to value 2\n",
      "Gurobi Optimizer version 9.5.2 build v9.5.2rc0 (win64)\n",
      "Thread count: 4 physical cores, 8 logical processors, using up to 8 threads\n",
      "Optimize a model with 20335 rows, 30511 columns and 20906 nonzeros\n",
      "Model fingerprint: 0x54df4c7b\n",
      "Model has 10167 quadratic objective terms\n",
      "Model has 10167 quadratic constraints\n",
      "Variable types: 30501 continuous, 10 integer (10 binary)\n",
      "Coefficient statistics:\n",
      "  Matrix range     [1e+00, 1e+05]\n",
      "  QMatrix range    [1e+00, 1e+00]\n",
      "  Objective range  [0e+00, 0e+00]\n",
      "  QObjective range [6e+00, 3e+04]\n",
      "  Bounds range     [8e-06, 1e+05]\n",
      "  RHS range        [2e+00, 9e+04]\n",
      "  QRHS range       [1e+00, 1e+00]\n",
      "Presolve removed 20192 rows and 30289 columns\n",
      "Presolve time: 0.09s\n",
      "Presolved: 570 rows, 294 columns, 1376 nonzeros\n",
      "Presolved model has 142 bilinear constraint(s)\n",
      "Variable types: 285 continuous, 9 integer (9 binary)\n",
      "\n",
      "Root relaxation: objective 7.555743e+03, 312 iterations, 0.00 seconds (0.00 work units)\n",
      "\n",
      "    Nodes    |    Current Node    |     Objective Bounds      |     Work\n",
      " Expl Unexpl |  Obj  Depth IntInf | Incumbent    BestBd   Gap | It/Node Time\n",
      "\n",
      "     0     0 7555.74273    0   51          - 7555.74273      -     -    0s\n",
      "H    0     0                    7370.9425241 7555.74273  2.51%     -    0s\n",
      "     0     0     cutoff    0      7370.94252 7370.94252  0.00%     -    0s\n",
      "\n",
      "Explored 1 nodes (314 simplex iterations) in 0.15 seconds (0.06 work units)\n",
      "Thread count was 8 (of 8 available processors)\n",
      "\n",
      "Solution count 1: 7370.94 \n",
      "\n",
      "Optimal solution found (tolerance 1.00e-04)\n",
      "Warning: max constraint violation (2.3215e-06) exceeds tolerance\n",
      "Best objective 7.370942524109e+03, best bound 7.370942524109e+03, gap 0.0000%\n",
      "\n",
      " Build facility at location I1/00168.\n",
      "\n",
      " Build facility at location I1/00234.\n"
     ]
    },
    {
     "data": {
      "text/plain": [
       "datetime.datetime(2023, 1, 5, 10, 2, 55, 968533)"
      ]
     },
     "metadata": {},
     "output_type": "display_data"
    },
    {
     "name": "stdout",
     "output_type": "stream",
     "text": [
      "Runing time: 0:02:23.606118\n"
     ]
    },
    {
     "data": {
      "text/plain": [
       "3"
      ]
     },
     "metadata": {},
     "output_type": "display_data"
    },
    {
     "name": "stdout",
     "output_type": "stream",
     "text": [
      "Set parameter NonConvex to value 2\n",
      "Gurobi Optimizer version 9.5.2 build v9.5.2rc0 (win64)\n",
      "Thread count: 4 physical cores, 8 logical processors, using up to 8 threads\n",
      "Optimize a model with 20335 rows, 30511 columns and 20906 nonzeros\n",
      "Model fingerprint: 0x2f191c94\n",
      "Model has 10167 quadratic objective terms\n",
      "Model has 10167 quadratic constraints\n",
      "Variable types: 30501 continuous, 10 integer (10 binary)\n",
      "Coefficient statistics:\n",
      "  Matrix range     [1e+00, 1e+05]\n",
      "  QMatrix range    [1e+00, 1e+00]\n",
      "  Objective range  [0e+00, 0e+00]\n",
      "  QObjective range [6e+00, 3e+04]\n",
      "  Bounds range     [8e-06, 1e+05]\n",
      "  RHS range        [3e+00, 9e+04]\n",
      "  QRHS range       [1e+00, 1e+00]\n",
      "Presolve removed 20192 rows and 30288 columns\n",
      "Presolve time: 0.05s\n",
      "Presolved: 570 rows, 295 columns, 1377 nonzeros\n",
      "Presolved model has 142 bilinear constraint(s)\n",
      "Variable types: 285 continuous, 10 integer (10 binary)\n",
      "\n",
      "Root relaxation: objective 1.075211e+04, 334 iterations, 0.00 seconds (0.00 work units)\n",
      "\n",
      "    Nodes    |    Current Node    |     Objective Bounds      |     Work\n",
      " Expl Unexpl |  Obj  Depth IntInf | Incumbent    BestBd   Gap | It/Node Time\n",
      "\n",
      "     0     0 10752.1123    0   51          - 10752.1123      -     -    0s\n",
      "H    0     0                    10567.312130 10752.1123  1.75%     -    0s\n",
      "     0     0     cutoff    0      10567.3121 10567.3121  0.00%     -    0s\n",
      "\n",
      "Explored 1 nodes (336 simplex iterations) in 0.11 seconds (0.06 work units)\n",
      "Thread count was 8 (of 8 available processors)\n",
      "\n",
      "Solution count 1: 10567.3 \n",
      "\n",
      "Optimal solution found (tolerance 1.00e-04)\n",
      "Warning: max constraint violation (2.3215e-06) exceeds tolerance\n",
      "Best objective 1.056731213020e+04, best bound 1.056731213020e+04, gap 0.0000%\n",
      "\n",
      " Build facility at location I1/00168.\n",
      "\n",
      " Build facility at location I1/00171.\n",
      "\n",
      " Build facility at location I1/00234.\n"
     ]
    },
    {
     "data": {
      "text/plain": [
       "datetime.datetime(2023, 1, 5, 10, 5, 4, 408009)"
      ]
     },
     "metadata": {},
     "output_type": "display_data"
    },
    {
     "name": "stdout",
     "output_type": "stream",
     "text": [
      "Runing time: 0:02:08.438503\n"
     ]
    },
    {
     "data": {
      "text/plain": [
       "4"
      ]
     },
     "metadata": {},
     "output_type": "display_data"
    },
    {
     "name": "stdout",
     "output_type": "stream",
     "text": [
      "Set parameter NonConvex to value 2\n",
      "Gurobi Optimizer version 9.5.2 build v9.5.2rc0 (win64)\n",
      "Thread count: 4 physical cores, 8 logical processors, using up to 8 threads\n",
      "Optimize a model with 20335 rows, 30511 columns and 20906 nonzeros\n",
      "Model fingerprint: 0x58383774\n",
      "Model has 10167 quadratic objective terms\n",
      "Model has 10167 quadratic constraints\n",
      "Variable types: 30501 continuous, 10 integer (10 binary)\n",
      "Coefficient statistics:\n",
      "  Matrix range     [1e+00, 1e+05]\n",
      "  QMatrix range    [1e+00, 1e+00]\n",
      "  Objective range  [0e+00, 0e+00]\n",
      "  QObjective range [6e+00, 3e+04]\n",
      "  Bounds range     [8e-06, 1e+05]\n",
      "  RHS range        [4e+00, 9e+04]\n",
      "  QRHS range       [1e+00, 1e+00]\n",
      "Presolve removed 20192 rows and 30288 columns\n",
      "Presolve time: 0.09s\n",
      "Presolved: 570 rows, 295 columns, 1377 nonzeros\n",
      "Presolved model has 142 bilinear constraint(s)\n",
      "Variable types: 285 continuous, 10 integer (10 binary)\n",
      "\n",
      "Root relaxation: objective 1.380508e+04, 355 iterations, 0.00 seconds (0.00 work units)\n",
      "\n",
      "    Nodes    |    Current Node    |     Objective Bounds      |     Work\n",
      " Expl Unexpl |  Obj  Depth IntInf | Incumbent    BestBd   Gap | It/Node Time\n",
      "\n",
      "     0     0 13805.0767    0   99          - 13805.0767      -     -    0s\n",
      "H    0     0                    13575.286877 13805.0767  1.69%     -    0s\n",
      "     0     0 13580.5462    0  101 13575.2869 13580.5462  0.04%     -    0s\n",
      "     0     1 13580.5462    0   98 13575.2869 13580.5462  0.04%     -    0s\n",
      "\n",
      "Explored 2 nodes (432 simplex iterations) in 0.17 seconds (0.06 work units)\n",
      "Thread count was 8 (of 8 available processors)\n",
      "\n",
      "Solution count 1: 13575.3 \n",
      "\n",
      "Optimal solution found (tolerance 1.00e-04)\n",
      "Warning: max constraint violation (2.3215e-06) exceeds tolerance\n",
      "Best objective 1.357528687732e+04, best bound 1.357529737953e+04, gap 0.0001%\n",
      "\n",
      " Build facility at location I1/00168.\n",
      "\n",
      " Build facility at location I1/00171.\n",
      "\n",
      " Build facility at location I1/00209.\n",
      "\n",
      " Build facility at location I1/00234.\n"
     ]
    },
    {
     "data": {
      "text/plain": [
       "datetime.datetime(2023, 1, 5, 10, 7, 13, 528670)"
      ]
     },
     "metadata": {},
     "output_type": "display_data"
    },
    {
     "name": "stdout",
     "output_type": "stream",
     "text": [
      "Runing time: 0:02:09.119142\n"
     ]
    },
    {
     "data": {
      "text/plain": [
       "5"
      ]
     },
     "metadata": {},
     "output_type": "display_data"
    },
    {
     "name": "stdout",
     "output_type": "stream",
     "text": [
      "Set parameter NonConvex to value 2\n",
      "Gurobi Optimizer version 9.5.2 build v9.5.2rc0 (win64)\n",
      "Thread count: 4 physical cores, 8 logical processors, using up to 8 threads\n",
      "Optimize a model with 20335 rows, 30511 columns and 20906 nonzeros\n",
      "Model fingerprint: 0x204bc812\n",
      "Model has 10167 quadratic objective terms\n",
      "Model has 10167 quadratic constraints\n",
      "Variable types: 30501 continuous, 10 integer (10 binary)\n",
      "Coefficient statistics:\n",
      "  Matrix range     [1e+00, 1e+05]\n",
      "  QMatrix range    [1e+00, 1e+00]\n",
      "  Objective range  [0e+00, 0e+00]\n",
      "  QObjective range [6e+00, 3e+04]\n",
      "  Bounds range     [8e-06, 1e+05]\n",
      "  RHS range        [5e+00, 9e+04]\n",
      "  QRHS range       [1e+00, 1e+00]\n",
      "Presolve removed 20192 rows and 30288 columns\n",
      "Presolve time: 0.09s\n",
      "Presolved: 570 rows, 295 columns, 1377 nonzeros\n",
      "Presolved model has 142 bilinear constraint(s)\n",
      "Variable types: 285 continuous, 10 integer (10 binary)\n",
      "\n",
      "Root relaxation: objective 1.657075e+04, 370 iterations, 0.00 seconds (0.00 work units)\n",
      "\n",
      "    Nodes    |    Current Node    |     Objective Bounds      |     Work\n",
      " Expl Unexpl |  Obj  Depth IntInf | Incumbent    BestBd   Gap | It/Node Time\n",
      "\n",
      "     0     0 16570.7526    0  134          - 16570.7526      -     -    0s\n",
      "H    0     0                    16330.618980 16570.7526  1.47%     -    0s\n",
      "     0     0     cutoff    0      16330.6190 16330.6190  0.00%     -    0s\n",
      "\n",
      "Explored 1 nodes (432 simplex iterations) in 0.16 seconds (0.06 work units)\n",
      "Thread count was 8 (of 8 available processors)\n",
      "\n",
      "Solution count 1: 16330.6 \n",
      "\n",
      "Optimal solution found (tolerance 1.00e-04)\n",
      "Warning: max constraint violation (2.3215e-06) exceeds tolerance\n",
      "Best objective 1.633061898033e+04, best bound 1.633061898033e+04, gap 0.0000%\n",
      "\n",
      " Build facility at location I1/00168.\n",
      "\n",
      " Build facility at location I1/00171.\n",
      "\n",
      " Build facility at location I1/00172.\n",
      "\n",
      " Build facility at location I1/00209.\n",
      "\n",
      " Build facility at location I1/00234.\n"
     ]
    },
    {
     "data": {
      "text/plain": [
       "datetime.datetime(2023, 1, 5, 10, 9, 20, 364688)"
      ]
     },
     "metadata": {},
     "output_type": "display_data"
    },
    {
     "name": "stdout",
     "output_type": "stream",
     "text": [
      "Runing time: 0:02:06.835011\n"
     ]
    },
    {
     "data": {
      "text/plain": [
       "6"
      ]
     },
     "metadata": {},
     "output_type": "display_data"
    },
    {
     "name": "stdout",
     "output_type": "stream",
     "text": [
      "Set parameter NonConvex to value 2\n",
      "Gurobi Optimizer version 9.5.2 build v9.5.2rc0 (win64)\n",
      "Thread count: 4 physical cores, 8 logical processors, using up to 8 threads\n",
      "Optimize a model with 20335 rows, 30511 columns and 20906 nonzeros\n",
      "Model fingerprint: 0x1ecf3cf8\n",
      "Model has 10167 quadratic objective terms\n",
      "Model has 10167 quadratic constraints\n",
      "Variable types: 30501 continuous, 10 integer (10 binary)\n",
      "Coefficient statistics:\n",
      "  Matrix range     [1e+00, 1e+05]\n",
      "  QMatrix range    [1e+00, 1e+00]\n",
      "  Objective range  [0e+00, 0e+00]\n",
      "  QObjective range [6e+00, 3e+04]\n",
      "  Bounds range     [8e-06, 1e+05]\n",
      "  RHS range        [6e+00, 9e+04]\n",
      "  QRHS range       [1e+00, 1e+00]\n",
      "Presolve removed 20192 rows and 30288 columns\n",
      "Presolve time: 0.08s\n",
      "Presolved: 570 rows, 295 columns, 1377 nonzeros\n",
      "Presolved model has 142 bilinear constraint(s)\n",
      "Variable types: 285 continuous, 10 integer (10 binary)\n",
      "\n",
      "Root relaxation: objective 1.879308e+04, 323 iterations, 0.00 seconds (0.00 work units)\n",
      "\n",
      "    Nodes    |    Current Node    |     Objective Bounds      |     Work\n",
      " Expl Unexpl |  Obj  Depth IntInf | Incumbent    BestBd   Gap | It/Node Time\n",
      "\n",
      "     0     0 18793.0770    0   82          - 18793.0770      -     -    0s\n",
      "H    0     0                    18747.738234 18793.0770  0.24%     -    0s\n",
      "     0     0     cutoff    0      18747.7382 18747.7382  0.00%     -    0s\n",
      "\n",
      "Explored 1 nodes (385 simplex iterations) in 0.15 seconds (0.06 work units)\n",
      "Thread count was 8 (of 8 available processors)\n",
      "\n",
      "Solution count 1: 18747.7 \n",
      "\n",
      "Optimal solution found (tolerance 1.00e-04)\n",
      "Warning: max constraint violation (2.3215e-06) exceeds tolerance\n",
      "Best objective 1.874773823440e+04, best bound 1.874773823440e+04, gap 0.0000%\n",
      "\n",
      " Build facility at location I1/00168.\n",
      "\n",
      " Build facility at location I1/00171.\n",
      "\n",
      " Build facility at location I1/00172.\n",
      "\n",
      " Build facility at location I1/00178.\n",
      "\n",
      " Build facility at location I1/00209.\n",
      "\n",
      " Build facility at location I1/00234.\n"
     ]
    },
    {
     "data": {
      "text/plain": [
       "datetime.datetime(2023, 1, 5, 10, 11, 25, 29405)"
      ]
     },
     "metadata": {},
     "output_type": "display_data"
    },
    {
     "name": "stdout",
     "output_type": "stream",
     "text": [
      "Runing time: 0:02:04.663703\n"
     ]
    },
    {
     "data": {
      "text/plain": [
       "7"
      ]
     },
     "metadata": {},
     "output_type": "display_data"
    },
    {
     "name": "stdout",
     "output_type": "stream",
     "text": [
      "Set parameter NonConvex to value 2\n",
      "Gurobi Optimizer version 9.5.2 build v9.5.2rc0 (win64)\n",
      "Thread count: 4 physical cores, 8 logical processors, using up to 8 threads\n",
      "Optimize a model with 20335 rows, 30511 columns and 20906 nonzeros\n",
      "Model fingerprint: 0x7d170591\n",
      "Model has 10167 quadratic objective terms\n",
      "Model has 10167 quadratic constraints\n",
      "Variable types: 30501 continuous, 10 integer (10 binary)\n",
      "Coefficient statistics:\n",
      "  Matrix range     [1e+00, 1e+05]\n",
      "  QMatrix range    [1e+00, 1e+00]\n",
      "  Objective range  [0e+00, 0e+00]\n",
      "  QObjective range [6e+00, 3e+04]\n",
      "  Bounds range     [8e-06, 1e+05]\n",
      "  RHS range        [6e+00, 9e+04]\n",
      "  QRHS range       [1e+00, 1e+00]\n",
      "Presolve removed 20192 rows and 30288 columns\n",
      "Presolve time: 0.10s\n",
      "Presolved: 570 rows, 295 columns, 1377 nonzeros\n",
      "Presolved model has 142 bilinear constraint(s)\n",
      "Variable types: 285 continuous, 10 integer (10 binary)\n",
      "\n",
      "Root relaxation: objective 2.069598e+04, 311 iterations, 0.00 seconds (0.00 work units)\n",
      "\n",
      "    Nodes    |    Current Node    |     Objective Bounds      |     Work\n",
      " Expl Unexpl |  Obj  Depth IntInf | Incumbent    BestBd   Gap | It/Node Time\n",
      "\n",
      "     0     0 20695.9803    0   92          - 20695.9803      -     -    0s\n",
      "H    0     0                    20647.230685 20695.9803  0.24%     -    0s\n",
      "     0     0 20655.5283    0   58 20647.2307 20655.5283  0.04%     -    0s\n",
      "     0     0     cutoff    0      20647.2307 20647.2307  0.00%     -    0s\n",
      "\n",
      "Explored 1 nodes (341 simplex iterations) in 0.18 seconds (0.06 work units)\n",
      "Thread count was 8 (of 8 available processors)\n",
      "\n",
      "Solution count 1: 20647.2 \n",
      "\n",
      "Optimal solution found (tolerance 1.00e-04)\n",
      "Warning: max constraint violation (2.3215e-06) exceeds tolerance\n",
      "Best objective 2.064723068464e+04, best bound 2.064723068464e+04, gap 0.0000%\n",
      "\n",
      " Build facility at location I1/00168.\n",
      "\n",
      " Build facility at location I1/00171.\n",
      "\n",
      " Build facility at location I1/00172.\n",
      "\n",
      " Build facility at location I1/00178.\n",
      "\n",
      " Build facility at location I1/00209.\n",
      "\n",
      " Build facility at location I1/00215.\n",
      "\n",
      " Build facility at location I1/00234.\n"
     ]
    },
    {
     "data": {
      "text/plain": [
       "datetime.datetime(2023, 1, 5, 10, 13, 33, 862939)"
      ]
     },
     "metadata": {},
     "output_type": "display_data"
    },
    {
     "name": "stdout",
     "output_type": "stream",
     "text": [
      "Runing time: 0:02:08.831533\n"
     ]
    },
    {
     "data": {
      "text/plain": [
       "8"
      ]
     },
     "metadata": {},
     "output_type": "display_data"
    },
    {
     "name": "stdout",
     "output_type": "stream",
     "text": [
      "Set parameter NonConvex to value 2\n",
      "Gurobi Optimizer version 9.5.2 build v9.5.2rc0 (win64)\n",
      "Thread count: 4 physical cores, 8 logical processors, using up to 8 threads\n",
      "Optimize a model with 20335 rows, 30511 columns and 20906 nonzeros\n",
      "Model fingerprint: 0x565d93d8\n",
      "Model has 10167 quadratic objective terms\n",
      "Model has 10167 quadratic constraints\n",
      "Variable types: 30501 continuous, 10 integer (10 binary)\n",
      "Coefficient statistics:\n",
      "  Matrix range     [1e+00, 1e+05]\n",
      "  QMatrix range    [1e+00, 1e+00]\n",
      "  Objective range  [0e+00, 0e+00]\n",
      "  QObjective range [6e+00, 3e+04]\n",
      "  Bounds range     [8e-06, 1e+05]\n",
      "  RHS range        [6e+00, 9e+04]\n",
      "  QRHS range       [1e+00, 1e+00]\n",
      "Presolve removed 20192 rows and 30288 columns\n",
      "Presolve time: 0.08s\n",
      "Presolved: 570 rows, 295 columns, 1377 nonzeros\n",
      "Presolved model has 142 bilinear constraint(s)\n",
      "Variable types: 285 continuous, 10 integer (10 binary)\n",
      "\n",
      "Root relaxation: objective 2.244756e+04, 286 iterations, 0.00 seconds (0.00 work units)\n",
      "\n",
      "    Nodes    |    Current Node    |     Objective Bounds      |     Work\n",
      " Expl Unexpl |  Obj  Depth IntInf | Incumbent    BestBd   Gap | It/Node Time\n",
      "\n",
      "     0     0 22447.5557    0   36          - 22447.5557      -     -    0s\n",
      "H    0     0                    22447.206575 22447.5557  0.00%     -    0s\n",
      "\n",
      "Explored 1 nodes (286 simplex iterations) in 0.14 seconds (0.06 work units)\n",
      "Thread count was 8 (of 8 available processors)\n",
      "\n",
      "Solution count 1: 22447.2 \n",
      "\n",
      "Optimal solution found (tolerance 1.00e-04)\n",
      "Warning: max constraint violation (2.3215e-06) exceeds tolerance\n",
      "Best objective 2.244720657480e+04, best bound 2.244755570495e+04, gap 0.0016%\n",
      "\n",
      " Build facility at location I1/00168.\n",
      "\n",
      " Build facility at location I1/00171.\n",
      "\n",
      " Build facility at location I1/00172.\n",
      "\n",
      " Build facility at location I1/00178.\n",
      "\n",
      " Build facility at location I1/00209.\n",
      "\n",
      " Build facility at location I1/00215.\n",
      "\n",
      " Build facility at location I1/00234.\n",
      "\n",
      " Build facility at location I1/00235.\n"
     ]
    },
    {
     "data": {
      "text/plain": [
       "datetime.datetime(2023, 1, 5, 10, 15, 40, 407784)"
      ]
     },
     "metadata": {},
     "output_type": "display_data"
    },
    {
     "name": "stdout",
     "output_type": "stream",
     "text": [
      "Runing time: 0:02:06.543596\n"
     ]
    },
    {
     "data": {
      "text/plain": [
       "9"
      ]
     },
     "metadata": {},
     "output_type": "display_data"
    },
    {
     "name": "stdout",
     "output_type": "stream",
     "text": [
      "Set parameter NonConvex to value 2\n",
      "Gurobi Optimizer version 9.5.2 build v9.5.2rc0 (win64)\n",
      "Thread count: 4 physical cores, 8 logical processors, using up to 8 threads\n",
      "Optimize a model with 20335 rows, 30511 columns and 20906 nonzeros\n",
      "Model fingerprint: 0x4d278e7e\n",
      "Model has 10167 quadratic objective terms\n",
      "Model has 10167 quadratic constraints\n",
      "Variable types: 30501 continuous, 10 integer (10 binary)\n",
      "Coefficient statistics:\n",
      "  Matrix range     [1e+00, 1e+05]\n",
      "  QMatrix range    [1e+00, 1e+00]\n",
      "  Objective range  [0e+00, 0e+00]\n",
      "  QObjective range [6e+00, 3e+04]\n",
      "  Bounds range     [8e-06, 1e+05]\n",
      "  RHS range        [6e+00, 9e+04]\n",
      "  QRHS range       [1e+00, 1e+00]\n",
      "Presolve removed 20192 rows and 30290 columns\n",
      "Presolve time: 0.09s\n",
      "Presolved: 570 rows, 293 columns, 1375 nonzeros\n",
      "Presolved model has 142 bilinear constraint(s)\n",
      "Variable types: 285 continuous, 8 integer (8 binary)\n",
      "\n",
      "Root relaxation: objective 2.392294e+04, 267 iterations, 0.00 seconds (0.00 work units)\n",
      "\n",
      "    Nodes    |    Current Node    |     Objective Bounds      |     Work\n",
      " Expl Unexpl |  Obj  Depth IntInf | Incumbent    BestBd   Gap | It/Node Time\n",
      "\n",
      "     0     0 23922.9435    0   36          - 23922.9435      -     -    0s\n",
      "H    0     0                    23922.594358 23922.9435  0.00%     -    0s\n",
      "\n",
      "Explored 1 nodes (267 simplex iterations) in 0.14 seconds (0.06 work units)\n",
      "Thread count was 8 (of 8 available processors)\n",
      "\n",
      "Solution count 1: 23922.6 \n",
      "\n",
      "Optimal solution found (tolerance 1.00e-04)\n",
      "Warning: max constraint violation (2.3215e-06) exceeds tolerance\n",
      "Best objective 2.392259435806e+04, best bound 2.392294348821e+04, gap 0.0015%\n",
      "\n",
      " Build facility at location I1/00168.\n",
      "\n",
      " Build facility at location I1/00171.\n",
      "\n",
      " Build facility at location I1/00172.\n",
      "\n",
      " Build facility at location I1/00178.\n",
      "\n",
      " Build facility at location I1/00209.\n",
      "\n",
      " Build facility at location I1/00215.\n",
      "\n",
      " Build facility at location I1/00227.\n",
      "\n",
      " Build facility at location I1/00234.\n",
      "\n",
      " Build facility at location I1/00235.\n"
     ]
    },
    {
     "data": {
      "text/plain": [
       "datetime.datetime(2023, 1, 5, 10, 17, 43, 303375)"
      ]
     },
     "metadata": {},
     "output_type": "display_data"
    },
    {
     "name": "stdout",
     "output_type": "stream",
     "text": [
      "Runing time: 0:02:02.894633\n"
     ]
    }
   ],
   "source": [
    "# Run for loop to generate models for different number of facilities to build.\n",
    "# Based on the results, candidate facilities are ranked and compared with actual rankings.\n",
    "\n",
    "# Two sets of models are built: one where new and existing own facilities are considered\n",
    "# when searching for optimal location and second where only new facilities are considered. \n",
    "# This is done in order to check for cannibalization effect.\n",
    "\n",
    "for tf in [True, False]:\n",
    "    \n",
    "    if tf == True:\n",
    "        print('##### New and existing own facilities included #####')\n",
    "    else:\n",
    "        print('##### New facilities only #####')\n",
    "    \n",
    "    for run in range(1,len(c_store_no), 1):\n",
    "        start = datetime.datetime.now()\n",
    "\n",
    "        max_facilities = run\n",
    "        display(run)\n",
    "\n",
    "        # Logical condition to check if the model should take into account existing own facilities or not\n",
    "        include_existing = tf\n",
    "\n",
    "        # MIP  model formulation\n",
    "        m = gp.Model('flp-cjh')\n",
    "\n",
    "        # Select facilities from candidate locations\n",
    "        select = m.addVars(c_store_no, \n",
    "                           vtype=GRB.BINARY, \n",
    "                           name='select')\n",
    "\n",
    "        # Set constraint for maximum number of facilities to open\n",
    "        m.addConstr(select.sum() <= max_facilities, \n",
    "                    name=\"facility_limit\")\n",
    "\n",
    "        # Set NonConvex parameter to 2 to account for non-linearity of the model\n",
    "        m.setParam(\"NonConvex\", 2)\n",
    "\n",
    "        # Create numerator variable\n",
    "        zn = m.addVars(d_valid_grid_id, \n",
    "                       vtype=GRB.CONTINUOUS, \n",
    "                       name='numerator')\n",
    "\n",
    "        if include_existing == True:\n",
    "            m.addConstrs((zn[demand] == (gp.quicksum([attractiveness.sum(facility,demand) * select[facility] \n",
    "                                                      for facility in c_store_no])\n",
    "                                         + attractiveness.sum(eo_store_no, demand)) # Existing own facilities included\n",
    "                          for demand in d_valid_grid_id),\n",
    "                         name=\"set_numerator\")\n",
    "        else:\n",
    "            m.addConstrs((zn[demand] == (gp.quicksum([attractiveness.sum(facility,demand) * select[facility] \n",
    "                                                      for facility in c_store_no])) \n",
    "                          for demand in d_valid_grid_id),\n",
    "                         name=\"set_numerator\")\n",
    "\n",
    "        # Create denominator variable\n",
    "        zd = m.addVars(d_valid_grid_id, \n",
    "                       vtype=GRB.CONTINUOUS, \n",
    "                       name='denominator', \n",
    "                       lb = min_attract, \n",
    "                       ub = max_attract)\n",
    "        m.addConstrs((zd[demand] == (gp.quicksum([attractiveness.sum(facility,demand) * select[facility] \n",
    "                                                  for facility in c_store_no])\n",
    "                                     + attractiveness.sum(eo_store_no, demand)\n",
    "                                     + attractiveness.sum(ec_store_no, demand)) \n",
    "                      for demand in d_valid_grid_id),\n",
    "                     name=\"set_denominator\")\n",
    "\n",
    "        # Create auxiliary variable for linear reformulation\n",
    "        z = m.addVars(d_valid_grid_id, \n",
    "                      vtype=GRB.CONTINUOUS, \n",
    "                      name='z', \n",
    "                      lb = 1/max_attract, \n",
    "                      ub = 1/min_attract)\n",
    "        m.addConstrs((zd[demand] * z[demand] == 1\n",
    "                      for demand in d_valid_grid_id),\n",
    "                     name=\"auxiliary_variable_constraint\")\n",
    "        m.update()\n",
    "\n",
    "        # Formulate objective function\n",
    "        m.setObjective(gp.quicksum(d_demand[demand] * zn[demand] * z[demand]\n",
    "                                   for demand in d_valid_grid_id),\n",
    "                   GRB.MAXIMIZE)\n",
    "        m.optimize()\n",
    "\n",
    "        for facility in select.keys():\n",
    "            if (abs(select[facility].x) > 1e-6):\n",
    "                print(f\"\\n Build facility at location {facility}.\")\n",
    "\n",
    "        finish = datetime.datetime.now()\n",
    "        display(finish)\n",
    "        print('Runing time: ' + str(finish-start))"
   ]
  }
 ],
 "metadata": {
  "kernelspec": {
   "display_name": "Python 3",
   "language": "python",
   "name": "python3"
  },
  "language_info": {
   "codemirror_mode": {
    "name": "ipython",
    "version": 3
   },
   "file_extension": ".py",
   "mimetype": "text/x-python",
   "name": "python",
   "nbconvert_exporter": "python",
   "pygments_lexer": "ipython3",
   "version": "3.8.5"
  }
 },
 "nbformat": 4,
 "nbformat_minor": 4
}
